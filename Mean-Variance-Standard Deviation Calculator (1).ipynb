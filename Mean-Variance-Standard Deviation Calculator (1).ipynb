{
 "cells": [
  {
   "cell_type": "markdown",
   "id": "0a70a344",
   "metadata": {},
   "source": [
    "# Mean-Variance-Standard Deviation Calculator"
   ]
  },
  {
   "cell_type": "markdown",
   "id": "58777007",
   "metadata": {},
   "source": [
    "## Assignment\n",
    "\n",
    "Create a function named calculate() in mean_var_std.py that uses Numpy to output the mean, variance, standard deviation, max, min, and sum of the rows, columns, and elements in a 3 x 3 matrix.\n",
    "\n",
    "The input of the function should be a list containing 9 digits. The function should convert the list into a 3 x 3 Numpy array, and then return a dictionary containing the mean, variance, standard deviation, max, min, and sum along both axes and for the flattened matrix.\n",
    "\n",
    "If a list containing less than 9 elements is passed into the function, it should raise a ValueError exception with the message: \"List must contain nine numbers.\" The values in the returned dictionary should be lists and not Numpy arrays."
   ]
  },
  {
   "cell_type": "code",
   "execution_count": 1,
   "id": "0e27d443",
   "metadata": {},
   "outputs": [],
   "source": [
    "import numpy as np"
   ]
  },
  {
   "cell_type": "code",
   "execution_count": 23,
   "id": "f5dfccee",
   "metadata": {},
   "outputs": [],
   "source": [
    "def calculate(lista):\n",
    "    if len(lista) != 9:\n",
    "        raise ValueError(\"List must contain 9 numbers.\")\n",
    "    else:\n",
    "        matrix = np.array([[j for j in lista[0:3]], [j for j in lista[3:6]],[j for j in lista[6:9]]])\n",
    "    Mean = [list(matrix.mean(0)), list(matrix.mean(1)), matrix.mean()]\n",
    "    Variance = [list(matrix.var(0)), list(matrix.var(1)), matrix.var()]\n",
    "    Standard_deviation = [list(matrix.std(0)), list(matrix.std(1)), matrix.std()]\n",
    "    Max = [list(matrix.max(0)), list(matrix.max(1)), matrix.max()]\n",
    "    Min = [list(matrix.min(0)), list(matrix.min(1)), matrix.min()]\n",
    "    Sum = [list(matrix.sum(0)), list(matrix.sum(1)), matrix.sum()]\n",
    "    output = {\"mean\":Mean, \"variance\":Variance, \"standard deviation\":Standard_deviation, \"max\":Max, \"min\":Min, \"sum\":Sum}\n",
    "    return output"
   ]
  },
  {
   "cell_type": "markdown",
   "id": "624336aa",
   "metadata": {},
   "source": [
    "#### Example"
   ]
  },
  {
   "cell_type": "code",
   "execution_count": 25,
   "id": "6f6d5c8f",
   "metadata": {
    "scrolled": true
   },
   "outputs": [],
   "source": [
    "l = [0,1,2,3,4,5,6,7,8]"
   ]
  },
  {
   "cell_type": "code",
   "execution_count": 26,
   "id": "c9424df5",
   "metadata": {},
   "outputs": [
    {
     "data": {
      "text/plain": [
       "{'mean': [[3.0, 4.0, 5.0], [1.0, 4.0, 7.0], 4.0],\n",
       " 'variance': [[6.0, 6.0, 6.0],\n",
       "  [0.6666666666666666, 0.6666666666666666, 0.6666666666666666],\n",
       "  6.666666666666667],\n",
       " 'standard deviation': [[2.449489742783178,\n",
       "   2.449489742783178,\n",
       "   2.449489742783178],\n",
       "  [0.816496580927726, 0.816496580927726, 0.816496580927726],\n",
       "  2.581988897471611],\n",
       " 'max': [[6, 7, 8], [2, 5, 8], 8],\n",
       " 'min': [[0, 1, 2], [0, 3, 6], 0],\n",
       " 'sum': [[9, 12, 15], [3, 12, 21], 36]}"
      ]
     },
     "execution_count": 26,
     "metadata": {},
     "output_type": "execute_result"
    }
   ],
   "source": [
    "calculate(l)"
   ]
  },
  {
   "cell_type": "markdown",
   "id": "43185ebe",
   "metadata": {},
   "source": [
    "### _Nicolás Beltrán_"
   ]
  }
 ],
 "metadata": {
  "kernelspec": {
   "display_name": "Python 3 (ipykernel)",
   "language": "python",
   "name": "python3"
  },
  "language_info": {
   "codemirror_mode": {
    "name": "ipython",
    "version": 3
   },
   "file_extension": ".py",
   "mimetype": "text/x-python",
   "name": "python",
   "nbconvert_exporter": "python",
   "pygments_lexer": "ipython3",
   "version": "3.9.7"
  }
 },
 "nbformat": 4,
 "nbformat_minor": 5
}
