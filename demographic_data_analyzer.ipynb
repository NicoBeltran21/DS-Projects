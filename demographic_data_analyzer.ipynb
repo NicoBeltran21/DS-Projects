{
 "cells": [
  {
   "cell_type": "markdown",
   "id": "c1db0b68",
   "metadata": {},
   "source": [
    "# Demographic Data Analyzer"
   ]
  },
  {
   "cell_type": "markdown",
   "id": "b34c3f47",
   "metadata": {},
   "source": [
    "### Questions:\n",
    "1. How many people of each race are represented in this dataset? This should be a Pandas series with race names as the index labels. (race column)\n",
    "2. What is the average age of men?\n",
    "3. What is the percentage of people who have a Bachelor's degree?\n",
    "4. What percentage of people with advanced education (Bachelors, Masters, or Doctorate) make more than 50K?\n",
    "5. What percentage of people without advanced education make more than 50K?\n",
    "6. What is the minimum number of hours a person works per week?\n",
    "7. What percentage of the people who work the minimum number of hours per week have a salary of more than 50K?\n",
    "8. What country has the highest percentage of people that earn >50K and what is that percentage?\n",
    "9. Identify the most popular occupation for those who earn >50K in India. #"
   ]
  },
  {
   "cell_type": "code",
   "execution_count": 1,
   "id": "6436373f",
   "metadata": {},
   "outputs": [],
   "source": [
    "import numpy as np\n",
    "import pandas as pd"
   ]
  },
  {
   "cell_type": "code",
   "execution_count": 2,
   "id": "6824d4ae",
   "metadata": {},
   "outputs": [],
   "source": [
    "adata = pd.read_csv(\"adult_data.csv\")"
   ]
  },
  {
   "cell_type": "code",
   "execution_count": 3,
   "id": "a28a14bd",
   "metadata": {
    "scrolled": true
   },
   "outputs": [
    {
     "data": {
      "text/html": [
       "<div>\n",
       "<style scoped>\n",
       "    .dataframe tbody tr th:only-of-type {\n",
       "        vertical-align: middle;\n",
       "    }\n",
       "\n",
       "    .dataframe tbody tr th {\n",
       "        vertical-align: top;\n",
       "    }\n",
       "\n",
       "    .dataframe thead th {\n",
       "        text-align: right;\n",
       "    }\n",
       "</style>\n",
       "<table border=\"1\" class=\"dataframe\">\n",
       "  <thead>\n",
       "    <tr style=\"text-align: right;\">\n",
       "      <th></th>\n",
       "      <th>age</th>\n",
       "      <th>workclass</th>\n",
       "      <th>fnlwgt</th>\n",
       "      <th>education</th>\n",
       "      <th>education-num</th>\n",
       "      <th>marital-status</th>\n",
       "      <th>occupation</th>\n",
       "      <th>relationship</th>\n",
       "      <th>race</th>\n",
       "      <th>sex</th>\n",
       "      <th>capital-gain</th>\n",
       "      <th>capital-loss</th>\n",
       "      <th>hours-per-week</th>\n",
       "      <th>native-country</th>\n",
       "      <th>salary</th>\n",
       "    </tr>\n",
       "  </thead>\n",
       "  <tbody>\n",
       "    <tr>\n",
       "      <th>0</th>\n",
       "      <td>39</td>\n",
       "      <td>State-gov</td>\n",
       "      <td>77516</td>\n",
       "      <td>Bachelors</td>\n",
       "      <td>13</td>\n",
       "      <td>Never-married</td>\n",
       "      <td>Adm-clerical</td>\n",
       "      <td>Not-in-family</td>\n",
       "      <td>White</td>\n",
       "      <td>Male</td>\n",
       "      <td>2174</td>\n",
       "      <td>0</td>\n",
       "      <td>40</td>\n",
       "      <td>United-States</td>\n",
       "      <td>&lt;=50K</td>\n",
       "    </tr>\n",
       "    <tr>\n",
       "      <th>1</th>\n",
       "      <td>50</td>\n",
       "      <td>Self-emp-not-inc</td>\n",
       "      <td>83311</td>\n",
       "      <td>Bachelors</td>\n",
       "      <td>13</td>\n",
       "      <td>Married-civ-spouse</td>\n",
       "      <td>Exec-managerial</td>\n",
       "      <td>Husband</td>\n",
       "      <td>White</td>\n",
       "      <td>Male</td>\n",
       "      <td>0</td>\n",
       "      <td>0</td>\n",
       "      <td>13</td>\n",
       "      <td>United-States</td>\n",
       "      <td>&lt;=50K</td>\n",
       "    </tr>\n",
       "    <tr>\n",
       "      <th>2</th>\n",
       "      <td>38</td>\n",
       "      <td>Private</td>\n",
       "      <td>215646</td>\n",
       "      <td>HS-grad</td>\n",
       "      <td>9</td>\n",
       "      <td>Divorced</td>\n",
       "      <td>Handlers-cleaners</td>\n",
       "      <td>Not-in-family</td>\n",
       "      <td>White</td>\n",
       "      <td>Male</td>\n",
       "      <td>0</td>\n",
       "      <td>0</td>\n",
       "      <td>40</td>\n",
       "      <td>United-States</td>\n",
       "      <td>&lt;=50K</td>\n",
       "    </tr>\n",
       "    <tr>\n",
       "      <th>3</th>\n",
       "      <td>53</td>\n",
       "      <td>Private</td>\n",
       "      <td>234721</td>\n",
       "      <td>11th</td>\n",
       "      <td>7</td>\n",
       "      <td>Married-civ-spouse</td>\n",
       "      <td>Handlers-cleaners</td>\n",
       "      <td>Husband</td>\n",
       "      <td>Black</td>\n",
       "      <td>Male</td>\n",
       "      <td>0</td>\n",
       "      <td>0</td>\n",
       "      <td>40</td>\n",
       "      <td>United-States</td>\n",
       "      <td>&lt;=50K</td>\n",
       "    </tr>\n",
       "    <tr>\n",
       "      <th>4</th>\n",
       "      <td>28</td>\n",
       "      <td>Private</td>\n",
       "      <td>338409</td>\n",
       "      <td>Bachelors</td>\n",
       "      <td>13</td>\n",
       "      <td>Married-civ-spouse</td>\n",
       "      <td>Prof-specialty</td>\n",
       "      <td>Wife</td>\n",
       "      <td>Black</td>\n",
       "      <td>Female</td>\n",
       "      <td>0</td>\n",
       "      <td>0</td>\n",
       "      <td>40</td>\n",
       "      <td>Cuba</td>\n",
       "      <td>&lt;=50K</td>\n",
       "    </tr>\n",
       "  </tbody>\n",
       "</table>\n",
       "</div>"
      ],
      "text/plain": [
       "   age         workclass  fnlwgt  education  education-num  \\\n",
       "0   39         State-gov   77516  Bachelors             13   \n",
       "1   50  Self-emp-not-inc   83311  Bachelors             13   \n",
       "2   38           Private  215646    HS-grad              9   \n",
       "3   53           Private  234721       11th              7   \n",
       "4   28           Private  338409  Bachelors             13   \n",
       "\n",
       "       marital-status         occupation   relationship   race     sex  \\\n",
       "0       Never-married       Adm-clerical  Not-in-family  White    Male   \n",
       "1  Married-civ-spouse    Exec-managerial        Husband  White    Male   \n",
       "2            Divorced  Handlers-cleaners  Not-in-family  White    Male   \n",
       "3  Married-civ-spouse  Handlers-cleaners        Husband  Black    Male   \n",
       "4  Married-civ-spouse     Prof-specialty           Wife  Black  Female   \n",
       "\n",
       "   capital-gain  capital-loss  hours-per-week native-country salary  \n",
       "0          2174             0              40  United-States  <=50K  \n",
       "1             0             0              13  United-States  <=50K  \n",
       "2             0             0              40  United-States  <=50K  \n",
       "3             0             0              40  United-States  <=50K  \n",
       "4             0             0              40           Cuba  <=50K  "
      ]
     },
     "execution_count": 3,
     "metadata": {},
     "output_type": "execute_result"
    }
   ],
   "source": [
    "adata.head()"
   ]
  },
  {
   "cell_type": "code",
   "execution_count": 4,
   "id": "7fe884a9",
   "metadata": {
    "scrolled": true
   },
   "outputs": [
    {
     "name": "stdout",
     "output_type": "stream",
     "text": [
      "<class 'pandas.core.frame.DataFrame'>\n",
      "RangeIndex: 32561 entries, 0 to 32560\n",
      "Data columns (total 15 columns):\n",
      " #   Column          Non-Null Count  Dtype \n",
      "---  ------          --------------  ----- \n",
      " 0   age             32561 non-null  int64 \n",
      " 1   workclass       32561 non-null  object\n",
      " 2   fnlwgt          32561 non-null  int64 \n",
      " 3   education       32561 non-null  object\n",
      " 4   education-num   32561 non-null  int64 \n",
      " 5   marital-status  32561 non-null  object\n",
      " 6   occupation      32561 non-null  object\n",
      " 7   relationship    32561 non-null  object\n",
      " 8   race            32561 non-null  object\n",
      " 9   sex             32561 non-null  object\n",
      " 10  capital-gain    32561 non-null  int64 \n",
      " 11  capital-loss    32561 non-null  int64 \n",
      " 12  hours-per-week  32561 non-null  int64 \n",
      " 13  native-country  32561 non-null  object\n",
      " 14  salary          32561 non-null  object\n",
      "dtypes: int64(6), object(9)\n",
      "memory usage: 3.7+ MB\n"
     ]
    }
   ],
   "source": [
    "adata.info()"
   ]
  },
  {
   "cell_type": "markdown",
   "id": "1c1939da",
   "metadata": {},
   "source": [
    "### ~ Q1 ~ "
   ]
  },
  {
   "cell_type": "code",
   "execution_count": 240,
   "id": "5727a45a",
   "metadata": {},
   "outputs": [
    {
     "data": {
      "text/plain": [
       "White                 27816\n",
       "Black                  3124\n",
       "Asian-Pac-Islander     1039\n",
       "Amer-Indian-Eskimo      311\n",
       "Other                   271\n",
       "Name: race, dtype: int64"
      ]
     },
     "execution_count": 240,
     "metadata": {},
     "output_type": "execute_result"
    }
   ],
   "source": [
    "adata[\"race\"].value_counts()"
   ]
  },
  {
   "cell_type": "markdown",
   "id": "576cff50",
   "metadata": {},
   "source": [
    "### ~ Q2 ~"
   ]
  },
  {
   "cell_type": "code",
   "execution_count": 241,
   "id": "5c0fa905",
   "metadata": {},
   "outputs": [
    {
     "data": {
      "text/plain": [
       "39.4"
      ]
     },
     "execution_count": 241,
     "metadata": {},
     "output_type": "execute_result"
    }
   ],
   "source": [
    "round((adata.loc[adata[\"sex\"]==\"Male\",\"age\"].mean()), 1)"
   ]
  },
  {
   "cell_type": "markdown",
   "id": "886c78ce",
   "metadata": {},
   "source": [
    "### ~ Q3 ~"
   ]
  },
  {
   "cell_type": "code",
   "execution_count": 242,
   "id": "0fbbc3c9",
   "metadata": {},
   "outputs": [
    {
     "data": {
      "text/plain": [
       "16.4"
      ]
     },
     "execution_count": 242,
     "metadata": {},
     "output_type": "execute_result"
    }
   ],
   "source": [
    "(((adata.loc[adata[\"education\"]== \"Bachelors\", \"education\"].count())/ adata[\"education\"].count())*100).round(1)"
   ]
  },
  {
   "cell_type": "markdown",
   "id": "84e0cdc6",
   "metadata": {},
   "source": [
    "### ~ Q4 ~ "
   ]
  },
  {
   "cell_type": "code",
   "execution_count": 243,
   "id": "5d3041d5",
   "metadata": {},
   "outputs": [
    {
     "data": {
      "text/plain": [
       "46.5"
      ]
     },
     "execution_count": 243,
     "metadata": {},
     "output_type": "execute_result"
    }
   ],
   "source": [
    "BMD = adata.loc[((adata[\"education\"]== \"Bachelors\")|(adata[\"education\"]== \"Masters\")|(adata[\"education\"]== \"Doctorate\")), \"salary\"].count()\n",
    "BMD50UP = adata.loc[((adata[\"education\"]== \"Bachelors\")|(adata[\"education\"]== \"Masters\")|(adata[\"education\"]== \"Doctorate\"))&(adata[\"salary\"] == \">50K\"), \"salary\"].count()\n",
    "((BMD50UP/BMD)*100).round(1) "
   ]
  },
  {
   "cell_type": "markdown",
   "id": "960b1dfc",
   "metadata": {},
   "source": [
    "### ~ Q5 ~"
   ]
  },
  {
   "cell_type": "code",
   "execution_count": 244,
   "id": "e75d3e04",
   "metadata": {},
   "outputs": [
    {
     "data": {
      "text/plain": [
       "17.4"
      ]
     },
     "execution_count": 244,
     "metadata": {},
     "output_type": "execute_result"
    }
   ],
   "source": [
    "WOED = adata.loc[(adata[\"education\"] != \"Bachelors\")&(adata[\"education\"] != \"Masters\")&(adata[\"education\"] != \"Doctorate\"), \"salary\"].count() \n",
    "WOED50UP = adata.loc[((adata[\"education\"] != \"Bachelors\")&(adata[\"education\"] != \"Masters\")&(adata[\"education\"] != \"Doctorate\"))&(adata[\"salary\"] == \">50K\"), \"salary\"].count()\n",
    "((WOED50UP/WOED)*100).round(1) "
   ]
  },
  {
   "cell_type": "markdown",
   "id": "156c1afd",
   "metadata": {},
   "source": [
    "### ~ Q6 ~"
   ]
  },
  {
   "cell_type": "code",
   "execution_count": 245,
   "id": "4cbc31dd",
   "metadata": {},
   "outputs": [
    {
     "data": {
      "text/plain": [
       "1"
      ]
     },
     "execution_count": 245,
     "metadata": {},
     "output_type": "execute_result"
    }
   ],
   "source": [
    "adata[\"hours-per-week\"].min()"
   ]
  },
  {
   "cell_type": "markdown",
   "id": "2ea0c5eb",
   "metadata": {},
   "source": [
    "### ~ Q7 ~"
   ]
  },
  {
   "cell_type": "code",
   "execution_count": 246,
   "id": "94d25ece",
   "metadata": {},
   "outputs": [
    {
     "data": {
      "text/plain": [
       "10.0"
      ]
     },
     "execution_count": 246,
     "metadata": {},
     "output_type": "execute_result"
    }
   ],
   "source": [
    "mh = adata.loc[(adata[\"hours-per-week\"] == 1), \"salary\"].count()\n",
    "mh50up = adata.loc[(adata[\"hours-per-week\"] == 1)&(adata[\"salary\"] == \">50K\"), \"salary\"].count()\n",
    "((mh50up/mh)*100).round(1)"
   ]
  },
  {
   "cell_type": "markdown",
   "id": "39eb0060",
   "metadata": {},
   "source": [
    "### ~ Q8 ~"
   ]
  },
  {
   "cell_type": "code",
   "execution_count": 250,
   "id": "b0cd35f0",
   "metadata": {},
   "outputs": [
    {
     "name": "stdout",
     "output_type": "stream",
     "text": [
      "Iran 41.9\n"
     ]
    }
   ],
   "source": [
    "pc50up= adata.loc[(adata[\"salary\"] == \">50K\"), \"native-country\"].value_counts()\n",
    "pc = adata[\"native-country\"].value_counts()\n",
    "A = (((pc50up/pc)*100).round(1))\n",
    "print(A.idxmax(), A.max())"
   ]
  },
  {
   "cell_type": "markdown",
   "id": "fa30a6c6",
   "metadata": {},
   "source": [
    "### ~ Q9 ~"
   ]
  },
  {
   "cell_type": "code",
   "execution_count": 248,
   "id": "e4c344e8",
   "metadata": {},
   "outputs": [
    {
     "data": {
      "text/plain": [
       "Prof-specialty      25\n",
       "Exec-managerial      8\n",
       "Other-service        2\n",
       "Tech-support         2\n",
       "Transport-moving     1\n",
       "Sales                1\n",
       "Adm-clerical         1\n",
       "Name: occupation, dtype: int64"
      ]
     },
     "execution_count": 248,
     "metadata": {},
     "output_type": "execute_result"
    }
   ],
   "source": [
    "adata.loc[(adata[\"native-country\"] == \"India\")&(adata[\"salary\"] == \">50K\"), \"occupation\"].value_counts()"
   ]
  },
  {
   "cell_type": "markdown",
   "id": "b03893ed",
   "metadata": {},
   "source": [
    "##### _Nicolás Beltrán_"
   ]
  }
 ],
 "metadata": {
  "kernelspec": {
   "display_name": "Python 3 (ipykernel)",
   "language": "python",
   "name": "python3"
  },
  "language_info": {
   "codemirror_mode": {
    "name": "ipython",
    "version": 3
   },
   "file_extension": ".py",
   "mimetype": "text/x-python",
   "name": "python",
   "nbconvert_exporter": "python",
   "pygments_lexer": "ipython3",
   "version": "3.9.7"
  }
 },
 "nbformat": 4,
 "nbformat_minor": 5
}
