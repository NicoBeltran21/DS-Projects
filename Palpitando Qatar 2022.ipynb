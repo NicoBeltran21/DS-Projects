{
 "cells": [
  {
   "cell_type": "markdown",
   "id": "f1e259a0",
   "metadata": {},
   "source": [
    "# Palpitando Qatar 2022 - _International Matches_"
   ]
  },
  {
   "cell_type": "markdown",
   "id": "e8cb25d6",
   "metadata": {},
   "source": [
    "El dataset utilizado en este notebook corresponde a todos los partidos de fútbol disputados entre selecciones nacionales desde el 08/08/1993 al 14/06/2022."
   ]
  },
  {
   "cell_type": "markdown",
   "id": "1410f8bf",
   "metadata": {},
   "source": [
    "### Índice:\n",
    "\n",
    "#### 1. Discusiones domingueras\n",
    "\n",
    "- 1.1 - ¿El local tiene ventaja? - Gráfico que compara los partidos ganados por el equipo local, el visitante, y los empates. ¿En qué porcentaje de los partidos celebrados salió victorioso el equipo local?\n",
    "- 1.2 - Resultados esperados según ranking FIFA - Gráfico de la cantidad de partidos ganados por el equipo esperado según el ranking de la FIFA y los \"batacazos\".\n",
    "\n",
    "#### 2. Un poco de historia\n",
    "\n",
    "- 2.1. - Sudamérica vs Europa - H2H entre naciones sudamericanas y europeas. \n",
    "- 2.2. - Argentina vs Brasil, el superclásico americano - H2H entre Argentina y Brasil.\n",
    "- 2.3. - Una vez más - H2H entre Argentina y las naciones que integran el grupo C de Qatar 2022.\n",
    "- 2.4. - Que la gente crea - Porcentaje de victorias de Argentina a lo largo de los años.\n",
    "\n",
    "#### 3. Bonus\n",
    "\n",
    "- 3.1. - Los goleadores - Top 10 de las selecciones con mayor promedio de gol en mundiales\n",
    "- 3.2. - El No-Top 10 - Las 10 selecciones que más...\n",
    "- 3.3. - Algunos datos del anfitrión "
   ]
  },
  {
   "cell_type": "code",
   "execution_count": 617,
   "id": "1a690fc1",
   "metadata": {},
   "outputs": [],
   "source": [
    "import pandas as pd\n",
    "import matplotlib.pyplot as plt\n",
    "import numpy as np\n",
    "import operator"
   ]
  },
  {
   "cell_type": "code",
   "execution_count": 618,
   "id": "d69ba511",
   "metadata": {},
   "outputs": [],
   "source": [
    "df = pd.read_csv(\"international_matches.csv\", parse_dates=[\"date\"])"
   ]
  },
  {
   "cell_type": "code",
   "execution_count": 619,
   "id": "354a1fb8",
   "metadata": {},
   "outputs": [
    {
     "name": "stdout",
     "output_type": "stream",
     "text": [
      "<class 'pandas.core.frame.DataFrame'>\n",
      "RangeIndex: 23921 entries, 0 to 23920\n",
      "Data columns (total 25 columns):\n",
      " #   Column                         Non-Null Count  Dtype         \n",
      "---  ------                         --------------  -----         \n",
      " 0   date                           23921 non-null  datetime64[ns]\n",
      " 1   home_team                      23921 non-null  object        \n",
      " 2   away_team                      23921 non-null  object        \n",
      " 3   home_team_continent            23921 non-null  object        \n",
      " 4   away_team_continent            23921 non-null  object        \n",
      " 5   home_team_fifa_rank            23921 non-null  int64         \n",
      " 6   away_team_fifa_rank            23921 non-null  int64         \n",
      " 7   home_team_total_fifa_points    23921 non-null  int64         \n",
      " 8   away_team_total_fifa_points    23921 non-null  int64         \n",
      " 9   home_team_score                23921 non-null  int64         \n",
      " 10  away_team_score                23921 non-null  int64         \n",
      " 11  tournament                     23921 non-null  object        \n",
      " 12  city                           23921 non-null  object        \n",
      " 13  country                        23921 non-null  object        \n",
      " 14  neutral_location               23921 non-null  bool          \n",
      " 15  shoot_out                      23921 non-null  object        \n",
      " 16  home_team_result               23921 non-null  object        \n",
      " 17  home_team_goalkeeper_score     8379 non-null   float64       \n",
      " 18  away_team_goalkeeper_score     8095 non-null   float64       \n",
      " 19  home_team_mean_defense_score   7787 non-null   float64       \n",
      " 20  home_team_mean_offense_score   8510 non-null   float64       \n",
      " 21  home_team_mean_midfield_score  8162 non-null   float64       \n",
      " 22  away_team_mean_defense_score   7564 non-null   float64       \n",
      " 23  away_team_mean_offense_score   8312 non-null   float64       \n",
      " 24  away_team_mean_midfield_score  7979 non-null   float64       \n",
      "dtypes: bool(1), datetime64[ns](1), float64(8), int64(6), object(9)\n",
      "memory usage: 4.4+ MB\n"
     ]
    }
   ],
   "source": [
    "df.info()"
   ]
  },
  {
   "cell_type": "code",
   "execution_count": 620,
   "id": "799f0c38",
   "metadata": {},
   "outputs": [
    {
     "data": {
      "text/html": [
       "<div>\n",
       "<style scoped>\n",
       "    .dataframe tbody tr th:only-of-type {\n",
       "        vertical-align: middle;\n",
       "    }\n",
       "\n",
       "    .dataframe tbody tr th {\n",
       "        vertical-align: top;\n",
       "    }\n",
       "\n",
       "    .dataframe thead th {\n",
       "        text-align: right;\n",
       "    }\n",
       "</style>\n",
       "<table border=\"1\" class=\"dataframe\">\n",
       "  <thead>\n",
       "    <tr style=\"text-align: right;\">\n",
       "      <th></th>\n",
       "      <th>date</th>\n",
       "      <th>home_team</th>\n",
       "      <th>away_team</th>\n",
       "      <th>home_team_continent</th>\n",
       "      <th>away_team_continent</th>\n",
       "      <th>home_team_fifa_rank</th>\n",
       "      <th>away_team_fifa_rank</th>\n",
       "      <th>home_team_total_fifa_points</th>\n",
       "      <th>away_team_total_fifa_points</th>\n",
       "      <th>home_team_score</th>\n",
       "      <th>...</th>\n",
       "      <th>shoot_out</th>\n",
       "      <th>home_team_result</th>\n",
       "      <th>home_team_goalkeeper_score</th>\n",
       "      <th>away_team_goalkeeper_score</th>\n",
       "      <th>home_team_mean_defense_score</th>\n",
       "      <th>home_team_mean_offense_score</th>\n",
       "      <th>home_team_mean_midfield_score</th>\n",
       "      <th>away_team_mean_defense_score</th>\n",
       "      <th>away_team_mean_offense_score</th>\n",
       "      <th>away_team_mean_midfield_score</th>\n",
       "    </tr>\n",
       "  </thead>\n",
       "  <tbody>\n",
       "    <tr>\n",
       "      <th>0</th>\n",
       "      <td>1993-08-08</td>\n",
       "      <td>Bolivia</td>\n",
       "      <td>Uruguay</td>\n",
       "      <td>South America</td>\n",
       "      <td>South America</td>\n",
       "      <td>59</td>\n",
       "      <td>22</td>\n",
       "      <td>0</td>\n",
       "      <td>0</td>\n",
       "      <td>3</td>\n",
       "      <td>...</td>\n",
       "      <td>No</td>\n",
       "      <td>Win</td>\n",
       "      <td>NaN</td>\n",
       "      <td>NaN</td>\n",
       "      <td>NaN</td>\n",
       "      <td>NaN</td>\n",
       "      <td>NaN</td>\n",
       "      <td>NaN</td>\n",
       "      <td>NaN</td>\n",
       "      <td>NaN</td>\n",
       "    </tr>\n",
       "    <tr>\n",
       "      <th>1</th>\n",
       "      <td>1993-08-08</td>\n",
       "      <td>Brazil</td>\n",
       "      <td>Mexico</td>\n",
       "      <td>South America</td>\n",
       "      <td>North America</td>\n",
       "      <td>8</td>\n",
       "      <td>14</td>\n",
       "      <td>0</td>\n",
       "      <td>0</td>\n",
       "      <td>1</td>\n",
       "      <td>...</td>\n",
       "      <td>No</td>\n",
       "      <td>Draw</td>\n",
       "      <td>NaN</td>\n",
       "      <td>NaN</td>\n",
       "      <td>NaN</td>\n",
       "      <td>NaN</td>\n",
       "      <td>NaN</td>\n",
       "      <td>NaN</td>\n",
       "      <td>NaN</td>\n",
       "      <td>NaN</td>\n",
       "    </tr>\n",
       "    <tr>\n",
       "      <th>2</th>\n",
       "      <td>1993-08-08</td>\n",
       "      <td>Ecuador</td>\n",
       "      <td>Venezuela</td>\n",
       "      <td>South America</td>\n",
       "      <td>South America</td>\n",
       "      <td>35</td>\n",
       "      <td>94</td>\n",
       "      <td>0</td>\n",
       "      <td>0</td>\n",
       "      <td>5</td>\n",
       "      <td>...</td>\n",
       "      <td>No</td>\n",
       "      <td>Win</td>\n",
       "      <td>NaN</td>\n",
       "      <td>NaN</td>\n",
       "      <td>NaN</td>\n",
       "      <td>NaN</td>\n",
       "      <td>NaN</td>\n",
       "      <td>NaN</td>\n",
       "      <td>NaN</td>\n",
       "      <td>NaN</td>\n",
       "    </tr>\n",
       "    <tr>\n",
       "      <th>3</th>\n",
       "      <td>1993-08-08</td>\n",
       "      <td>Guinea</td>\n",
       "      <td>Sierra Leone</td>\n",
       "      <td>Africa</td>\n",
       "      <td>Africa</td>\n",
       "      <td>65</td>\n",
       "      <td>86</td>\n",
       "      <td>0</td>\n",
       "      <td>0</td>\n",
       "      <td>1</td>\n",
       "      <td>...</td>\n",
       "      <td>No</td>\n",
       "      <td>Win</td>\n",
       "      <td>NaN</td>\n",
       "      <td>NaN</td>\n",
       "      <td>NaN</td>\n",
       "      <td>NaN</td>\n",
       "      <td>NaN</td>\n",
       "      <td>NaN</td>\n",
       "      <td>NaN</td>\n",
       "      <td>NaN</td>\n",
       "    </tr>\n",
       "    <tr>\n",
       "      <th>4</th>\n",
       "      <td>1993-08-08</td>\n",
       "      <td>Paraguay</td>\n",
       "      <td>Argentina</td>\n",
       "      <td>South America</td>\n",
       "      <td>South America</td>\n",
       "      <td>67</td>\n",
       "      <td>5</td>\n",
       "      <td>0</td>\n",
       "      <td>0</td>\n",
       "      <td>1</td>\n",
       "      <td>...</td>\n",
       "      <td>No</td>\n",
       "      <td>Lose</td>\n",
       "      <td>NaN</td>\n",
       "      <td>NaN</td>\n",
       "      <td>NaN</td>\n",
       "      <td>NaN</td>\n",
       "      <td>NaN</td>\n",
       "      <td>NaN</td>\n",
       "      <td>NaN</td>\n",
       "      <td>NaN</td>\n",
       "    </tr>\n",
       "  </tbody>\n",
       "</table>\n",
       "<p>5 rows × 25 columns</p>\n",
       "</div>"
      ],
      "text/plain": [
       "        date home_team     away_team home_team_continent away_team_continent  \\\n",
       "0 1993-08-08   Bolivia       Uruguay       South America       South America   \n",
       "1 1993-08-08    Brazil        Mexico       South America       North America   \n",
       "2 1993-08-08   Ecuador     Venezuela       South America       South America   \n",
       "3 1993-08-08    Guinea  Sierra Leone              Africa              Africa   \n",
       "4 1993-08-08  Paraguay     Argentina       South America       South America   \n",
       "\n",
       "   home_team_fifa_rank  away_team_fifa_rank  home_team_total_fifa_points  \\\n",
       "0                   59                   22                            0   \n",
       "1                    8                   14                            0   \n",
       "2                   35                   94                            0   \n",
       "3                   65                   86                            0   \n",
       "4                   67                    5                            0   \n",
       "\n",
       "   away_team_total_fifa_points  home_team_score  ...  shoot_out  \\\n",
       "0                            0                3  ...         No   \n",
       "1                            0                1  ...         No   \n",
       "2                            0                5  ...         No   \n",
       "3                            0                1  ...         No   \n",
       "4                            0                1  ...         No   \n",
       "\n",
       "  home_team_result home_team_goalkeeper_score away_team_goalkeeper_score  \\\n",
       "0              Win                        NaN                        NaN   \n",
       "1             Draw                        NaN                        NaN   \n",
       "2              Win                        NaN                        NaN   \n",
       "3              Win                        NaN                        NaN   \n",
       "4             Lose                        NaN                        NaN   \n",
       "\n",
       "   home_team_mean_defense_score home_team_mean_offense_score  \\\n",
       "0                           NaN                          NaN   \n",
       "1                           NaN                          NaN   \n",
       "2                           NaN                          NaN   \n",
       "3                           NaN                          NaN   \n",
       "4                           NaN                          NaN   \n",
       "\n",
       "  home_team_mean_midfield_score  away_team_mean_defense_score  \\\n",
       "0                           NaN                           NaN   \n",
       "1                           NaN                           NaN   \n",
       "2                           NaN                           NaN   \n",
       "3                           NaN                           NaN   \n",
       "4                           NaN                           NaN   \n",
       "\n",
       "   away_team_mean_offense_score  away_team_mean_midfield_score  \n",
       "0                           NaN                            NaN  \n",
       "1                           NaN                            NaN  \n",
       "2                           NaN                            NaN  \n",
       "3                           NaN                            NaN  \n",
       "4                           NaN                            NaN  \n",
       "\n",
       "[5 rows x 25 columns]"
      ]
     },
     "execution_count": 620,
     "metadata": {},
     "output_type": "execute_result"
    }
   ],
   "source": [
    "df.head()"
   ]
  },
  {
   "cell_type": "markdown",
   "id": "85637043",
   "metadata": {},
   "source": [
    "### Data Cleaning"
   ]
  },
  {
   "cell_type": "markdown",
   "id": "49284f72",
   "metadata": {},
   "source": [
    "Elimino las columnas irrelevantes para el análisis"
   ]
  },
  {
   "cell_type": "code",
   "execution_count": 621,
   "id": "111eb75a",
   "metadata": {},
   "outputs": [],
   "source": [
    "df = df[df.columns[:17]]\n",
    "df = df.drop([\"home_team_total_fifa_points\", \"away_team_total_fifa_points\", \"city\"], axis=1)"
   ]
  },
  {
   "cell_type": "markdown",
   "id": "7a285d12",
   "metadata": {},
   "source": [
    "Creo una nueva columna con el resultado del partido para el equipo visitante"
   ]
  },
  {
   "cell_type": "code",
   "execution_count": 622,
   "id": "7b85da31",
   "metadata": {},
   "outputs": [],
   "source": [
    "df[\"away_team_result\"]= \"Win\"\n",
    "df.loc[(df[\"home_team_result\"] == \"Win\"), \"away_team_result\"] = \"Lose\"\n",
    "df.loc[(df[\"home_team_result\"] == \"Draw\"), \"away_team_result\"] = \"Draw\""
   ]
  },
  {
   "cell_type": "markdown",
   "id": "e37329cc",
   "metadata": {},
   "source": [
    "## 1. Discusiones domingueras"
   ]
  },
  {
   "cell_type": "markdown",
   "id": "f9ac4a70",
   "metadata": {},
   "source": [
    "### 1.1. _¿El local tiene ventaja?_"
   ]
  },
  {
   "cell_type": "markdown",
   "id": "c9ff7543",
   "metadata": {},
   "source": [
    "__¿Es verdad que el equipo local tiene más chances de ganar un partido?.__"
   ]
  },
  {
   "cell_type": "markdown",
   "id": "b131a446",
   "metadata": {},
   "source": [
    "Para este paso, elimino los partidos con sede neutral"
   ]
  },
  {
   "cell_type": "code",
   "execution_count": 623,
   "id": "221b4712",
   "metadata": {},
   "outputs": [],
   "source": [
    "dfA = df.loc[(df[\"neutral_location\"] == False)]"
   ]
  },
  {
   "cell_type": "markdown",
   "id": "343fa3a6",
   "metadata": {},
   "source": [
    "Obtengo victorias, derrotas y empates respecto de los equipos locales"
   ]
  },
  {
   "cell_type": "code",
   "execution_count": 624,
   "id": "19c6f321",
   "metadata": {},
   "outputs": [],
   "source": [
    "victorias = dfA.loc[(dfA[\"home_team_result\"] == \"Win\"), \"country\"].count()\n",
    "derrotas = dfA.loc[(dfA[\"home_team_result\"] == \"Lose\"), \"country\"].count()\n",
    "empates = dfA.loc[(dfA[\"home_team_result\"] == \"Draw\"), \"country\"].count()"
   ]
  },
  {
   "cell_type": "markdown",
   "id": "d8396e42",
   "metadata": {},
   "source": [
    "Grafico la cantidad de victorias, derrotas y empates respecto de los equipos locales"
   ]
  },
  {
   "cell_type": "code",
   "execution_count": 625,
   "id": "88cdcd24",
   "metadata": {},
   "outputs": [
    {
     "data": {
      "image/png": "[encoded data removed]",
      "text/plain": [
       "<Figure size 432x288 with 1 Axes>"
      ]
     },
     "metadata": {},
     "output_type": "display_data"
    }
   ],
   "source": [
    "x = [\"Victorias\", \"Derrotas\",\"Empates\"]\n",
    "y = [victorias, derrotas, empates]\n",
    "plt.pie(y, labels=x,colors= [\"limegreen\", \"firebrick\", \"gold\"], shadow=True)\n",
    "plt.title(\"V, D, y E de equipos locales\")\n",
    "plt.show()\n"
   ]
  },
  {
   "cell_type": "markdown",
   "id": "1283ba2b",
   "metadata": {},
   "source": [
    "Conclusiones"
   ]
  },
  {
   "cell_type": "code",
   "execution_count": 626,
   "id": "10819f7a",
   "metadata": {},
   "outputs": [
    {
     "name": "stdout",
     "output_type": "stream",
     "text": [
      "De todos los partidos jugados en sede no neutral, el equipo local ganó el 51.1% de las veces, perdió el 26.0% y empató el 22.9%.\n"
     ]
    }
   ],
   "source": [
    "ca= (victorias/(victorias+derrotas+empates)*100).round(1)\n",
    "cb= (derrotas/(victorias+derrotas+empates)*100).round(1)\n",
    "cc= (empates/(victorias+derrotas+empates)*100).round(1)\n",
    "print(f\"De todos los partidos jugados en sede no neutral, el equipo local ganó el {ca}% de las veces, perdió el {cb}% y empató el {cc}%.\")"
   ]
  },
  {
   "cell_type": "markdown",
   "id": "0f076b51",
   "metadata": {},
   "source": [
    "### 1.2. _Resultados esperados según ranking FIFA_"
   ]
  },
  {
   "cell_type": "markdown",
   "id": "21dcb718",
   "metadata": {},
   "source": [
    "__Si intentáramos predecir el resultado de los partidos internacionales basándonos únicamente en la posición en el ranking FIFA de los equipos adversarios, ¿qué tan acertado sería nuestro pronóstico?.__"
   ]
  },
  {
   "cell_type": "markdown",
   "id": "76f9263c",
   "metadata": {},
   "source": [
    "Descarto los empates"
   ]
  },
  {
   "cell_type": "code",
   "execution_count": 627,
   "id": "04e14bcd",
   "metadata": {},
   "outputs": [],
   "source": [
    "dfB = df[df[\"home_team_result\"] != \"Draw\"]"
   ]
  },
  {
   "cell_type": "markdown",
   "id": "0b142a56",
   "metadata": {},
   "source": [
    "También descarto aquellos partidos donde los participantes tenían el mismo ranking"
   ]
  },
  {
   "cell_type": "code",
   "execution_count": 628,
   "id": "214a8d06",
   "metadata": {},
   "outputs": [],
   "source": [
    "dfB = dfB[dfB[\"home_team_fifa_rank\"] != dfB[\"away_team_fifa_rank\"]]"
   ]
  },
  {
   "cell_type": "markdown",
   "id": "528f92d7",
   "metadata": {},
   "source": [
    "Obtengo resultados esperados e inesperados"
   ]
  },
  {
   "cell_type": "code",
   "execution_count": 629,
   "id": "b4afc0b1",
   "metadata": {},
   "outputs": [],
   "source": [
    "Vesp= dfB.loc[(dfB[\"home_team_fifa_rank\"] > dfB[\"away_team_fifa_rank\"]) & (dfB[\"home_team_result\"] == \"Win\"), \"date\"].count()\n",
    "Desp= dfB.loc[(dfB[\"home_team_fifa_rank\"] < dfB[\"away_team_fifa_rank\"]) & (dfB[\"home_team_result\"] == \"Lose\"), \"date\"].count()\n",
    "Vinesp= dfB.loc[(dfB[\"home_team_fifa_rank\"] < dfB[\"away_team_fifa_rank\"]) & (dfB[\"home_team_result\"] == \"Win\"), \"date\"].count()\n",
    "Dinesp= dfB.loc[(dfB[\"home_team_fifa_rank\"] > dfB[\"away_team_fifa_rank\"]) & (dfB[\"home_team_result\"] == \"Lose\"), \"date\"].count()\n",
    "Resp= Vesp+Desp\n",
    "Rinesp= Vinesp+Dinesp"
   ]
  },
  {
   "cell_type": "markdown",
   "id": "8a31a957",
   "metadata": {},
   "source": [
    "Grafico la cantidad de resultados esperados e inesperados"
   ]
  },
  {
   "cell_type": "code",
   "execution_count": 630,
   "id": "ae4b4829",
   "metadata": {
    "scrolled": true
   },
   "outputs": [
    {
     "data": {
      "image/png": "[encoded data removed]",
      "text/plain": [
       "<Figure size 432x288 with 1 Axes>"
      ]
     },
     "metadata": {},
     "output_type": "display_data"
    }
   ],
   "source": [
    "x = [\"R. Esperado s/ranking\", \"R. Inesperado s/ranking\"]\n",
    "y = [Resp, Rinesp]\n",
    "plt.pie(y, labels=x, colors=[\"limegreen\", \"firebrick\"], shadow=True)\n",
    "plt.title(\"Resultados esperados e inesperados según ranking FIFA\")\n",
    "plt.show()"
   ]
  },
  {
   "cell_type": "markdown",
   "id": "4a665c3b",
   "metadata": {},
   "source": [
    "Conclusiones"
   ]
  },
  {
   "cell_type": "code",
   "execution_count": 631,
   "id": "f12c5ca3",
   "metadata": {
    "scrolled": true
   },
   "outputs": [
    {
     "name": "stdout",
     "output_type": "stream",
     "text": [
      "Si hubieramos pronosticado el resultado de cada partido (victoria o derrota) considerando la posición de los equipos en el ranking FIFA, habríamos acertado únicamente el 28.15% de las veces, sin considerar aquellos que terminaron en empate.\n"
     ]
    }
   ],
   "source": [
    "cd = (Resp*100/(Resp+Rinesp)).round(2)\n",
    "print(f\"Si hubieramos pronosticado el resultado de cada partido (victoria o derrota) considerando la posición de los equipos en el ranking FIFA, habríamos acertado únicamente el {cd}% de las veces, sin considerar aquellos que terminaron en empate.\")"
   ]
  },
  {
   "cell_type": "markdown",
   "id": "1e1c37cc",
   "metadata": {},
   "source": [
    "## 2. Un poco de historia"
   ]
  },
  {
   "cell_type": "markdown",
   "id": "543d1b02",
   "metadata": {},
   "source": [
    "### 2.1. _Sudamérica vs Europa, la batalla intercontinental_"
   ]
  },
  {
   "cell_type": "markdown",
   "id": "f882f0be",
   "metadata": {},
   "source": [
    "__H2H entre selecciones sudamericanas y europeas.__"
   ]
  },
  {
   "cell_type": "markdown",
   "id": "51fbf81f",
   "metadata": {},
   "source": [
    "Selecciono los partidos entre selecciones sudamericanas y europeas"
   ]
  },
  {
   "cell_type": "code",
   "execution_count": 632,
   "id": "4cd1cb7d",
   "metadata": {},
   "outputs": [],
   "source": [
    "dfC = df.loc[((df[\"home_team_continent\"] == \"South America\") & (df[\"away_team_continent\"] == \"Europe\"))  | ((df[\"home_team_continent\"] == \"Europe\") & (df[\"away_team_continent\"] == \"South America\"))]"
   ]
  },
  {
   "cell_type": "markdown",
   "id": "529bafe2",
   "metadata": {},
   "source": [
    "Conteo de partidos ganados por continente y empates"
   ]
  },
  {
   "cell_type": "code",
   "execution_count": 633,
   "id": "6f46f3d3",
   "metadata": {},
   "outputs": [],
   "source": [
    "partidos_totales = dfC[\"date\"].count()\n",
    "victorias_sudam = dfC.loc[((dfC[\"home_team_continent\"] == \"South America\") & (dfC[\"home_team_result\"] == \"Win\")) | ((dfC[\"away_team_continent\"] == \"South America\") & (dfC[\"away_team_result\"] == \"Win\")), \"date\"].count()\n",
    "victorias_europa = dfC.loc[((dfC[\"home_team_continent\"] == \"Europe\") & (dfC[\"home_team_result\"] == \"Win\")) | ((dfC[\"away_team_continent\"] == \"Europe\") & (dfC[\"away_team_result\"] == \"Win\")), \"date\"].count()\n",
    "empates = dfC.loc[df[\"home_team_result\"]==\"Draw\", \"date\"].count()"
   ]
  },
  {
   "cell_type": "markdown",
   "id": "c7b2f524",
   "metadata": {},
   "source": [
    "Grafico victorias por continente y empates"
   ]
  },
  {
   "cell_type": "code",
   "execution_count": 634,
   "id": "958ed765",
   "metadata": {},
   "outputs": [
    {
     "data": {
      "image/png": "[encoded data removed]",
      "text/plain": [
       "<Figure size 432x288 with 1 Axes>"
      ]
     },
     "metadata": {
      "needs_background": "light"
     },
     "output_type": "display_data"
    }
   ],
   "source": [
    "y = [\"Victorias Sudamérica\", \"Victorias Europa\", \"Empates\"]\n",
    "y = list(reversed(y))\n",
    "x=[victorias_sudam,victorias_europa,empates]\n",
    "x= list(reversed(x))\n",
    "plt.barh(y,x, height=0.7,color= [\"lightseagreen\", \"seagreen\", \"darkcyan\"])\n",
    "plt.title(\"Enfrentamientos entre selecciones sudamericanas y europeas\")\n",
    "plt.show()"
   ]
  },
  {
   "cell_type": "markdown",
   "id": "c8ea2de3",
   "metadata": {},
   "source": [
    "Ahora sin considerar amistosos"
   ]
  },
  {
   "cell_type": "code",
   "execution_count": 635,
   "id": "51bcd86f",
   "metadata": {},
   "outputs": [],
   "source": [
    "dfD = dfC.loc[df[\"tournament\"] != \"Friendly\"]"
   ]
  },
  {
   "cell_type": "code",
   "execution_count": 636,
   "id": "cad665a5",
   "metadata": {},
   "outputs": [],
   "source": [
    "partidos_totalesD = dfD[\"date\"].count()\n",
    "victorias_sudamD = dfD.loc[((dfD[\"home_team_continent\"] == \"South America\") & (dfD[\"home_team_result\"] == \"Win\")) | ((dfD[\"away_team_continent\"] == \"South America\") & (dfD[\"away_team_result\"] == \"Win\")), \"date\"].count()\n",
    "victorias_europaD = dfD.loc[((dfC[\"home_team_continent\"] == \"Europe\") & (dfD[\"home_team_result\"] == \"Win\")) | ((dfD[\"away_team_continent\"] == \"Europe\") & (dfD[\"away_team_result\"] == \"Win\")), \"date\"].count()\n",
    "empatesD = dfD.loc[df[\"home_team_result\"]==\"Draw\", \"date\"].count()"
   ]
  },
  {
   "cell_type": "code",
   "execution_count": 637,
   "id": "0fa57ce0",
   "metadata": {
    "scrolled": true
   },
   "outputs": [
    {
     "data": {
      "image/png": "[encoded data removed]",
      "text/plain": [
       "<Figure size 432x288 with 1 Axes>"
      ]
     },
     "metadata": {
      "needs_background": "light"
     },
     "output_type": "display_data"
    }
   ],
   "source": [
    "yD = [\"Victorias Sudamérica\", \"Victorias Europa\", \"Empates\"]\n",
    "yD = list(reversed(yD))\n",
    "xD=[victorias_sudamD,victorias_europaD,empatesD]\n",
    "xD= list(reversed(xD))\n",
    "plt.barh(yD,xD, height=0.7,color= [\"lightseagreen\", \"seagreen\", \"darkcyan\"])\n",
    "plt.title(\"Enfrentamientos competitivos entre selecciones sudamericanas y europeas\")\n",
    "plt.show()"
   ]
  },
  {
   "cell_type": "markdown",
   "id": "e838630b",
   "metadata": {},
   "source": [
    "Conclusiones"
   ]
  },
  {
   "cell_type": "code",
   "execution_count": 638,
   "id": "5e2ca020",
   "metadata": {
    "scrolled": true
   },
   "outputs": [
    {
     "name": "stdout",
     "output_type": "stream",
     "text": [
      "De los enfrentamientos entre selecciones europeas y sudamericanas desde 1993 hasta la fecha, los equipos sudamericanos salieron victoriosos en más encuentros (198) que los europeos (156). Sin embargo, excluyendo los partidos amistosos concluimos que el continente europeo se impuso en más ocasiones (54 vs 50).\n"
     ]
    }
   ],
   "source": [
    "print(f\"De los enfrentamientos entre selecciones europeas y sudamericanas desde 1993 hasta la fecha, los equipos sudamericanos salieron victoriosos en más encuentros ({victorias_sudam}) que los europeos ({victorias_europa}). Sin embargo, excluyendo los partidos amistosos concluimos que el continente europeo se impuso en más ocasiones ({victorias_europaD} vs {victorias_sudamD}).\")"
   ]
  },
  {
   "cell_type": "markdown",
   "id": "5f4a3dd0",
   "metadata": {},
   "source": [
    "### 2.2. _El superclásico americano_"
   ]
  },
  {
   "cell_type": "markdown",
   "id": "3c1f9521",
   "metadata": {},
   "source": [
    "__H2H entre Argentina y Brasil.__"
   ]
  },
  {
   "cell_type": "markdown",
   "id": "6dd33dae",
   "metadata": {},
   "source": [
    "Selecciono los partidos disputados entre Argentina y Brasil"
   ]
  },
  {
   "cell_type": "code",
   "execution_count": 639,
   "id": "e10dc2be",
   "metadata": {},
   "outputs": [],
   "source": [
    "dfH = df.loc[((df[\"home_team\"] == \"Argentina\")&(df[\"away_team\"] == \"Brazil\")) | ((df[\"home_team\"] == \"Brazil\")&(df[\"away_team\"] == \"Argentina\"))]\n",
    "dfH = dfH.loc[dfH[\"tournament\"]!=\"Friendly\"]"
   ]
  },
  {
   "cell_type": "markdown",
   "id": "be136355",
   "metadata": {},
   "source": [
    "Calculo las victorias de cada selección y los empates"
   ]
  },
  {
   "cell_type": "code",
   "execution_count": 640,
   "id": "846e8eb7",
   "metadata": {},
   "outputs": [],
   "source": [
    "Varg = dfH.loc[((dfH[\"home_team\"] == \"Argentina\")&(dfH[\"home_team_result\"] == \"Win\")) | ((dfH[\"away_team\"]==\"Argentina\")&(dfH[\"away_team_result\"]==\"Win\")), \"tournament\"].count()\n",
    "Vbrz = dfH.loc[((dfH[\"home_team\"] == \"Brazil\")&(dfH[\"home_team_result\"] == \"Win\")) | ((dfH[\"away_team\"]==\"Brazil\")&(dfH[\"away_team_result\"]==\"Win\")), \"tournament\"].count()\n",
    "EmpatesB = dfH.loc[dfH[\"home_team_result\"]==\"Draw\", \"tournament\"].count()\n",
    "AvsB = Varg+Vbrz+EmpatesB"
   ]
  },
  {
   "cell_type": "markdown",
   "id": "9f9e8b09",
   "metadata": {},
   "source": [
    "Grafico la información anterior"
   ]
  },
  {
   "cell_type": "code",
   "execution_count": 641,
   "id": "df98aede",
   "metadata": {
    "scrolled": false
   },
   "outputs": [
    {
     "data": {
      "image/png": "[encoded data removed]",
      "text/plain": [
       "<Figure size 432x288 with 1 Axes>"
      ]
     },
     "metadata": {
      "needs_background": "light"
     },
     "output_type": "display_data"
    }
   ],
   "source": [
    "xC = [\"V/Argentina\", \"V/Brasil\", \"Empates\"]\n",
    "yC = [Varg, Vbrz, EmpatesB]\n",
    "plt.bar(xC,yC, color=[\"c\",\"goldenrod\",\"purple\"])\n",
    "plt.show()"
   ]
  },
  {
   "cell_type": "markdown",
   "id": "0029f110",
   "metadata": {},
   "source": [
    "Conclusiones"
   ]
  },
  {
   "cell_type": "code",
   "execution_count": 642,
   "id": "e4067ada",
   "metadata": {
    "scrolled": true
   },
   "outputs": [
    {
     "name": "stdout",
     "output_type": "stream",
     "text": [
      "De 1993 a la fecha y sin considerar partidos amistosos, se celebraron 24 partidos entre Argentina y Brasil, de los cuales 5 fueron ganados por Argentina, mientras que la verde-amarela se quedó con 15 encuentros. El resto fueron empates.\n"
     ]
    }
   ],
   "source": [
    "print(f\"De 1993 a la fecha y sin considerar partidos amistosos, se celebraron {AvsB} partidos entre Argentina y Brasil, de los cuales {Varg} fueron ganados por Argentina, mientras que la verde-amarela se quedó con {Vbrz} encuentros. El resto fueron empates.\")"
   ]
  },
  {
   "cell_type": "markdown",
   "id": "c42e41bb",
   "metadata": {},
   "source": [
    "### 2.3. _Una vez más_"
   ]
  },
  {
   "cell_type": "markdown",
   "id": "14e07c58",
   "metadata": {},
   "source": [
    "__Un vistazo al historial con las selecciones que acompañan a Argentina en el grupo C de Qatar 2022.__"
   ]
  },
  {
   "cell_type": "code",
   "execution_count": 643,
   "id": "74808ad9",
   "metadata": {},
   "outputs": [
    {
     "data": {
      "text/html": [
       "<div>\n",
       "<style scoped>\n",
       "    .dataframe tbody tr th:only-of-type {\n",
       "        vertical-align: middle;\n",
       "    }\n",
       "\n",
       "    .dataframe tbody tr th {\n",
       "        vertical-align: top;\n",
       "    }\n",
       "\n",
       "    .dataframe thead th {\n",
       "        text-align: right;\n",
       "    }\n",
       "</style>\n",
       "<table border=\"1\" class=\"dataframe\">\n",
       "  <thead>\n",
       "    <tr style=\"text-align: right;\">\n",
       "      <th></th>\n",
       "      <th>date</th>\n",
       "      <th>home_team</th>\n",
       "      <th>away_team</th>\n",
       "      <th>home_team_continent</th>\n",
       "      <th>away_team_continent</th>\n",
       "      <th>home_team_fifa_rank</th>\n",
       "      <th>away_team_fifa_rank</th>\n",
       "      <th>home_team_score</th>\n",
       "      <th>away_team_score</th>\n",
       "      <th>tournament</th>\n",
       "      <th>country</th>\n",
       "      <th>neutral_location</th>\n",
       "      <th>shoot_out</th>\n",
       "      <th>home_team_result</th>\n",
       "      <th>away_team_result</th>\n",
       "    </tr>\n",
       "  </thead>\n",
       "  <tbody>\n",
       "    <tr>\n",
       "      <th>14024</th>\n",
       "      <td>2011-06-05</td>\n",
       "      <td>Poland</td>\n",
       "      <td>Argentina</td>\n",
       "      <td>Europe</td>\n",
       "      <td>South America</td>\n",
       "      <td>71</td>\n",
       "      <td>5</td>\n",
       "      <td>2</td>\n",
       "      <td>1</td>\n",
       "      <td>Friendly</td>\n",
       "      <td>Poland</td>\n",
       "      <td>False</td>\n",
       "      <td>No</td>\n",
       "      <td>Win</td>\n",
       "      <td>Lose</td>\n",
       "    </tr>\n",
       "  </tbody>\n",
       "</table>\n",
       "</div>"
      ],
      "text/plain": [
       "            date home_team  away_team home_team_continent away_team_continent  \\\n",
       "14024 2011-06-05    Poland  Argentina              Europe       South America   \n",
       "\n",
       "       home_team_fifa_rank  away_team_fifa_rank  home_team_score  \\\n",
       "14024                   71                    5                2   \n",
       "\n",
       "       away_team_score tournament country  neutral_location shoot_out  \\\n",
       "14024                1   Friendly  Poland             False        No   \n",
       "\n",
       "      home_team_result away_team_result  \n",
       "14024              Win             Lose  "
      ]
     },
     "execution_count": 643,
     "metadata": {},
     "output_type": "execute_result"
    }
   ],
   "source": [
    "df.loc[((df[\"home_team\"] == \"Argentina\")&(df[\"away_team\"] == \"Poland\")) | ((df[\"home_team\"] == \"Poland\")&(df[\"away_team\"] == \"Argentina\"))]"
   ]
  },
  {
   "cell_type": "code",
   "execution_count": 644,
   "id": "bd5cf280",
   "metadata": {},
   "outputs": [
    {
     "data": {
      "text/html": [
       "<div>\n",
       "<style scoped>\n",
       "    .dataframe tbody tr th:only-of-type {\n",
       "        vertical-align: middle;\n",
       "    }\n",
       "\n",
       "    .dataframe tbody tr th {\n",
       "        vertical-align: top;\n",
       "    }\n",
       "\n",
       "    .dataframe thead th {\n",
       "        text-align: right;\n",
       "    }\n",
       "</style>\n",
       "<table border=\"1\" class=\"dataframe\">\n",
       "  <thead>\n",
       "    <tr style=\"text-align: right;\">\n",
       "      <th></th>\n",
       "      <th>date</th>\n",
       "      <th>home_team</th>\n",
       "      <th>away_team</th>\n",
       "      <th>home_team_continent</th>\n",
       "      <th>away_team_continent</th>\n",
       "      <th>home_team_fifa_rank</th>\n",
       "      <th>away_team_fifa_rank</th>\n",
       "      <th>home_team_score</th>\n",
       "      <th>away_team_score</th>\n",
       "      <th>tournament</th>\n",
       "      <th>country</th>\n",
       "      <th>neutral_location</th>\n",
       "      <th>shoot_out</th>\n",
       "      <th>home_team_result</th>\n",
       "      <th>away_team_result</th>\n",
       "    </tr>\n",
       "  </thead>\n",
       "  <tbody>\n",
       "    <tr>\n",
       "      <th>15531</th>\n",
       "      <td>2012-11-14</td>\n",
       "      <td>Saudi Arabia</td>\n",
       "      <td>Argentina</td>\n",
       "      <td>Asia</td>\n",
       "      <td>South America</td>\n",
       "      <td>112</td>\n",
       "      <td>3</td>\n",
       "      <td>0</td>\n",
       "      <td>0</td>\n",
       "      <td>Friendly</td>\n",
       "      <td>Saudi Arabia</td>\n",
       "      <td>False</td>\n",
       "      <td>No</td>\n",
       "      <td>Draw</td>\n",
       "      <td>Draw</td>\n",
       "    </tr>\n",
       "  </tbody>\n",
       "</table>\n",
       "</div>"
      ],
      "text/plain": [
       "            date     home_team  away_team home_team_continent  \\\n",
       "15531 2012-11-14  Saudi Arabia  Argentina                Asia   \n",
       "\n",
       "      away_team_continent  home_team_fifa_rank  away_team_fifa_rank  \\\n",
       "15531       South America                  112                    3   \n",
       "\n",
       "       home_team_score  away_team_score tournament       country  \\\n",
       "15531                0                0   Friendly  Saudi Arabia   \n",
       "\n",
       "       neutral_location shoot_out home_team_result away_team_result  \n",
       "15531             False        No             Draw             Draw  "
      ]
     },
     "execution_count": 644,
     "metadata": {},
     "output_type": "execute_result"
    }
   ],
   "source": [
    "df.loc[((df[\"home_team\"] == \"Argentina\")&(df[\"away_team\"] == \"Saudi Arabia\")) | ((df[\"home_team\"] == \"Saudi Arabia\")&(df[\"away_team\"] == \"Argentina\"))]"
   ]
  },
  {
   "cell_type": "code",
   "execution_count": 645,
   "id": "56560bf7",
   "metadata": {
    "scrolled": false
   },
   "outputs": [],
   "source": [
    "dfM = df.loc[((df[\"home_team\"] == \"Argentina\")&(df[\"away_team\"] == \"Mexico\")) | ((df[\"home_team\"] == \"Mexico\")&(df[\"away_team\"] == \"Argentina\"))]\n",
    "Varg2 = dfM.loc[((dfM[\"home_team\"] == \"Argentina\")&(dfM[\"home_team_result\"] == \"Win\")) | ((dfM[\"away_team\"]==\"Argentina\")&(dfM[\"away_team_result\"]==\"Win\")), \"tournament\"].count()\n",
    "Vmex = dfM.loc[((dfM[\"home_team\"] == \"Mexico\")&(dfM[\"home_team_result\"] == \"Win\")) | ((dfM[\"away_team\"]==\"Mexico\")&(dfM[\"away_team_result\"]==\"Win\")), \"tournament\"].count()\n",
    "EmpatesM = dfM.loc[dfM[\"home_team_result\"]==\"Draw\", \"tournament\"].count()\n",
    "AvsM = Varg2+Vmex+EmpatesM"
   ]
  },
  {
   "cell_type": "code",
   "execution_count": 646,
   "id": "8102b9ae",
   "metadata": {},
   "outputs": [
    {
     "name": "stdout",
     "output_type": "stream",
     "text": [
      "Argentina enfrentó a Polonia y Arabia Saudita sólo una vez, ambos partidos fueron amistosos. Contra la selección europea caímos por 2 a 1 en el 2011, y contra Arabia empatamos 0 a 0 en 2012. Por otro lado, enfrentamos a México en 15 ocasiones, resultando ganadores en 11 partidos, perdedores en 1 y 3 empates.\n"
     ]
    }
   ],
   "source": [
    "print(f\"Argentina enfrentó a Polonia y Arabia Saudita sólo una vez, ambos partidos fueron amistosos. Contra la selección europea caímos por 2 a 1 en el 2011, y contra Arabia empatamos 0 a 0 en 2012. Por otro lado, enfrentamos a México en {AvsM} ocasiones, resultando ganadores en {Varg2} partidos, perdedores en {Vmex} y {EmpatesM} empates.\")"
   ]
  },
  {
   "cell_type": "markdown",
   "id": "c444694f",
   "metadata": {},
   "source": [
    "### 2.4. _Que la gente crea_"
   ]
  },
  {
   "cell_type": "markdown",
   "id": "4c4840c9",
   "metadata": {},
   "source": [
    "__Porcentaje de partidos ganados por Argentina año a año.__"
   ]
  },
  {
   "cell_type": "markdown",
   "id": "77b4df40",
   "metadata": {},
   "source": [
    "Creo una columna con el año del partido"
   ]
  },
  {
   "cell_type": "code",
   "execution_count": 647,
   "id": "81224a70",
   "metadata": {},
   "outputs": [],
   "source": [
    "dfF = df.set_index(\"date\")\n",
    "dfF[\"year\"] = dfF.index.year"
   ]
  },
  {
   "cell_type": "markdown",
   "id": "26e00046",
   "metadata": {},
   "source": [
    "Descarto los partidos jugados en 1993 porque ese año tiene información incompleta"
   ]
  },
  {
   "cell_type": "code",
   "execution_count": 648,
   "id": "662c8c37",
   "metadata": {},
   "outputs": [],
   "source": [
    "dfF = dfF.loc[(dfF[\"year\"] != 1993)]"
   ]
  },
  {
   "cell_type": "markdown",
   "id": "6ef14721",
   "metadata": {},
   "source": [
    "Selecciono únicamente los partidos donde participó Argentina"
   ]
  },
  {
   "cell_type": "code",
   "execution_count": 649,
   "id": "995c308e",
   "metadata": {},
   "outputs": [],
   "source": [
    "dfF = dfF.loc[(dfF[\"home_team\"] == \"Argentina\") | (dfF[\"away_team\"] == \"Argentina\")]"
   ]
  },
  {
   "cell_type": "markdown",
   "id": "fbc41b6e",
   "metadata": {},
   "source": [
    "Creo tres listas: Victorias, Derrotas y Empates por año"
   ]
  },
  {
   "cell_type": "code",
   "execution_count": 650,
   "id": "f329f1cb",
   "metadata": {},
   "outputs": [],
   "source": [
    "x = 1994\n",
    "listaV= []\n",
    "listaD = []\n",
    "listaE = []\n",
    "años =[]\n",
    "while x<2023:\n",
    "    V = dfF.loc[(dfF[\"year\"] == x) & (((dfF[\"home_team\"] == \"Argentina\") & (dfF[\"home_team_result\"] == \"Win\")) | ((dfF[\"away_team\"] ==\"Argentina\") & (dfF[\"away_team_result\"]==\"Win\"))), \"tournament\"].count()\n",
    "    D = dfF.loc[(dfF[\"year\"] == x) & (((dfF[\"home_team\"] == \"Argentina\") & (dfF[\"home_team_result\"] == \"Lose\")) | ((dfF[\"away_team\"] ==\"Argentina\") & (dfF[\"away_team_result\"]==\"Lose\"))), \"tournament\"].count()\n",
    "    E = dfF.loc[(dfF[\"year\"] == x) & (((dfF[\"home_team\"] == \"Argentina\") & (dfF[\"home_team_result\"] == \"Draw\")) | ((dfF[\"away_team\"] ==\"Argentina\") & (dfF[\"away_team_result\"]==\"Draw\"))), \"tournament\"].count()\n",
    "    listaV.append(V)\n",
    "    listaD.append(D)\n",
    "    listaE.append(E)\n",
    "    años.append(x)\n",
    "    x=x+1"
   ]
  },
  {
   "cell_type": "markdown",
   "id": "b8d56dc0",
   "metadata": {},
   "source": [
    "Creo un dataframe con la información anterior"
   ]
  },
  {
   "cell_type": "code",
   "execution_count": 651,
   "id": "eaf48aec",
   "metadata": {},
   "outputs": [],
   "source": [
    "dfG = pd.DataFrame(index=años, columns=[\"jugados\",\"ganados\",\"perdidos\",\"empatados\"])"
   ]
  },
  {
   "cell_type": "code",
   "execution_count": 652,
   "id": "3eac5246",
   "metadata": {},
   "outputs": [],
   "source": [
    "dfG[\"ganados\"] = listaV\n",
    "dfG[\"perdidos\"] = listaD\n",
    "dfG[\"empatados\"] = listaE\n",
    "dfG[\"jugados\"] = dfG[\"empatados\"]+dfG[\"perdidos\"]+dfG[\"ganados\"] "
   ]
  },
  {
   "cell_type": "markdown",
   "id": "e6f27e45",
   "metadata": {},
   "source": [
    "Calculo el porcentaje de victorias, derrotas y empates por año"
   ]
  },
  {
   "cell_type": "code",
   "execution_count": 653,
   "id": "8c48b7fb",
   "metadata": {},
   "outputs": [],
   "source": [
    "porcentajeG=((dfG[\"ganados\"]/dfG[\"jugados\"])*100).round(2)\n",
    "porcentajeE=((dfG[\"empatados\"]/dfG[\"jugados\"])*100).round(2)\n",
    "porcentajeD=((dfG[\"perdidos\"]/dfG[\"jugados\"])*100).round(2)"
   ]
  },
  {
   "cell_type": "markdown",
   "id": "c0442642",
   "metadata": {},
   "source": [
    "Grafico la información anterior"
   ]
  },
  {
   "cell_type": "code",
   "execution_count": 654,
   "id": "b9013a5a",
   "metadata": {},
   "outputs": [
    {
     "data": {
      "image/png": "[encoded data removed]",
      "text/plain": [
       "<Figure size 1512x432 with 1 Axes>"
      ]
     },
     "metadata": {
      "needs_background": "light"
     },
     "output_type": "display_data"
    }
   ],
   "source": [
    "fig, ax= plt.subplots(figsize=(21,6))\n",
    "ax.plot(porcentajeG,color=\"c\", marker=\"o\")\n",
    "ax.plot(porcentajeD,color=\"r\", marker=\"o\")\n",
    "ax.set(xlabel=\"Año\", ylabel=\"% de Victorias y Derrotas\", title=\"% de partidos ganados (celeste) y perdidos (rojo) por año por Argentina\")\n",
    "plt.show()"
   ]
  },
  {
   "cell_type": "code",
   "execution_count": 655,
   "id": "b50fe93f",
   "metadata": {},
   "outputs": [],
   "source": [
    "M = max(porcentajeG)"
   ]
  },
  {
   "cell_type": "markdown",
   "id": "ce27a771",
   "metadata": {},
   "source": [
    "Conclusiones"
   ]
  },
  {
   "cell_type": "code",
   "execution_count": 656,
   "id": "d8aa43be",
   "metadata": {
    "scrolled": false
   },
   "outputs": [
    {
     "name": "stdout",
     "output_type": "stream",
     "text": [
      "Entre 1994 y 2021, la selección argentina nunca perdió más partidos de los que ganó en un año; fue invicto en el 2001, 2020 (año de pandemia), y 2021; alcanzó en el 2010 la tasa de victorias máxima de 85.71%. De tener una buena performance en Qatar 2022 y los amistosos previos, la Scaloneta puede llegar a superar esta estadística.\n"
     ]
    }
   ],
   "source": [
    "print(f\"Entre 1994 y 2021, la selección argentina nunca perdió más partidos de los que ganó en un año; fue invicto en el 2001, 2020 (año de pandemia), y 2021; alcanzó en el 2010 la tasa de victorias máxima de {M}%. De tener una buena performance en Qatar 2022 y los amistosos previos, la Scaloneta puede llegar a superar esta estadística.\")"
   ]
  },
  {
   "cell_type": "markdown",
   "id": "c923cf79",
   "metadata": {},
   "source": [
    "## 3. Bonus"
   ]
  },
  {
   "cell_type": "markdown",
   "id": "93bc7bc7",
   "metadata": {},
   "source": [
    "### 3.1. _Los goleadores_"
   ]
  },
  {
   "cell_type": "markdown",
   "id": "1c8713f2",
   "metadata": {},
   "source": [
    "__Top 10 de selecciones con mayor promedio de gol en mundiales.__"
   ]
  },
  {
   "cell_type": "markdown",
   "id": "685dc3d1",
   "metadata": {},
   "source": [
    "Selecciono sólo los partidos de mundiales"
   ]
  },
  {
   "cell_type": "code",
   "execution_count": 657,
   "id": "ddd57071",
   "metadata": {},
   "outputs": [],
   "source": [
    "dfG= df.loc[df[\"tournament\"]==\"FIFA World Cup\"]"
   ]
  },
  {
   "cell_type": "markdown",
   "id": "62e9fda7",
   "metadata": {},
   "source": [
    "Hago una lista de los países que participaron. (Utilizo la columna de \"away_team\" porque, luego de haberlo chequeado, sé que incluye más países que la columna de locales, y también que todos los que están incluidos en ésta última también lo están en la primera)."
   ]
  },
  {
   "cell_type": "code",
   "execution_count": 658,
   "id": "b8208b79",
   "metadata": {},
   "outputs": [],
   "source": [
    "paisesG = list(dict(dfG[\"away_team\"].value_counts()).keys())"
   ]
  },
  {
   "cell_type": "markdown",
   "id": "efadd8c6",
   "metadata": {},
   "source": [
    "Sumo los partidos y goles por país, y luego calculo el promedio de gol para cada uno"
   ]
  },
  {
   "cell_type": "code",
   "execution_count": 659,
   "id": "390f6b43",
   "metadata": {},
   "outputs": [],
   "source": [
    "l = []\n",
    "for p in paisesG:\n",
    "    goles = (dfG.loc[(dfG[\"home_team\"]==p), \"home_team_score\"].sum() + dfG.loc[(dfG[\"away_team\"]==p), \"away_team_score\"].sum())\n",
    "    partidos = dfG.loc[(dfG[\"home_team\"]==p), \"home_team\"].count() + dfG.loc[(dfG[\"away_team\"]==p), \"home_team\"].count()\n",
    "    promedio_gol= round(goles/partidos, 2)\n",
    "    l.append(promedio_gol)\n",
    "dic = dict(zip(paisesG,l))"
   ]
  },
  {
   "cell_type": "markdown",
   "id": "0675e777",
   "metadata": {},
   "source": [
    "Selecciono los 10 países con mayor promedio"
   ]
  },
  {
   "cell_type": "code",
   "execution_count": 660,
   "id": "4f2ac41d",
   "metadata": {},
   "outputs": [],
   "source": [
    "dic_ord= sorted(dic.items(), key=operator.itemgetter(1),reverse=True)\n",
    "dic_10 = dict(dic_ord[0:10])"
   ]
  },
  {
   "cell_type": "markdown",
   "id": "bc7418c7",
   "metadata": {},
   "source": [
    "Grafico la información anterior"
   ]
  },
  {
   "cell_type": "code",
   "execution_count": 681,
   "id": "daab422e",
   "metadata": {},
   "outputs": [
    {
     "data": {
      "image/png": "[encoded data removed]",
      "text/plain": [
       "<Figure size 648x360 with 1 Axes>"
      ]
     },
     "metadata": {
      "needs_background": "light"
     },
     "output_type": "display_data"
    }
   ],
   "source": [
    "fig, ax= plt.subplots(figsize=(9,5))\n",
    "xG = list(reversed(dic_10.values()))\n",
    "yG = list(reversed(dic_10.keys()))\n",
    "plt.barh(yG,xG, color=[\"tomato\",\"gold\",\"navy\",\"brown\",\"skyblue\",\"orange\",\"navy\",\"r\",\"limegreen\",\"black\"])\n",
    "ax.set(xlabel=\"Promedio\", ylabel=\"País\", title=\"Promedio de goles convertidos por partido en mundiales\")\n",
    "plt.show()"
   ]
  },
  {
   "cell_type": "markdown",
   "id": "916a2cfb",
   "metadata": {},
   "source": [
    "Conclusiones"
   ]
  },
  {
   "cell_type": "code",
   "execution_count": 662,
   "id": "d3062d35",
   "metadata": {},
   "outputs": [
    {
     "name": "stdout",
     "output_type": "stream",
     "text": [
      "El país con mayor promedio de gol en mundiales desde USA 1994 es Alemania con un promedio de 1.98 goles por partido. Lo sigue Brasil con 1.88. Argentina está 6to con 1.67 goles por partido.\n"
     ]
    }
   ],
   "source": [
    "print(f\"El país con mayor promedio de gol en mundiales desde USA 1994 es Alemania con un promedio de {xG[9]} goles por partido. Lo sigue Brasil con {xG[8]}. Argentina está 6to con {xG[4]} goles por partido.\")"
   ]
  },
  {
   "cell_type": "markdown",
   "id": "dfc18130",
   "metadata": {},
   "source": [
    "### 3.2. _El No-Top 10_"
   ]
  },
  {
   "cell_type": "markdown",
   "id": "0045e83c",
   "metadata": {},
   "source": [
    "__3.2.1. Los 10 mundialistas que más goles reciben en competencias oficiales.__ "
   ]
  },
  {
   "cell_type": "markdown",
   "id": "1f022ef9",
   "metadata": {},
   "source": [
    "Descarto los amistosos"
   ]
  },
  {
   "cell_type": "code",
   "execution_count": 663,
   "id": "87de9ae8",
   "metadata": {},
   "outputs": [],
   "source": [
    "dfN= df.loc[df[\"tournament\"]!=\"Friendly\"]"
   ]
  },
  {
   "cell_type": "markdown",
   "id": "b625966d",
   "metadata": {},
   "source": [
    "Hago un diccionario con cada país y su respectivo promedio de goles recibidos"
   ]
  },
  {
   "cell_type": "code",
   "execution_count": 664,
   "id": "e12c9e69",
   "metadata": {},
   "outputs": [],
   "source": [
    "lN = []\n",
    "for p in paisesG:\n",
    "    golesR = dfN.loc[(dfN[\"home_team\"]==p), \"away_team_score\"].sum() + dfN.loc[(dfN[\"away_team\"]==p), \"home_team_score\"].sum()\n",
    "    partidos = dfN.loc[(dfN[\"home_team\"]==p), \"home_team\"].count() + dfN.loc[(dfN[\"away_team\"]==p), \"away_team\"].count()\n",
    "    promedio_golR= round(golesR/partidos, 2)\n",
    "    lN.append(promedio_golR)\n",
    "    \n",
    "dicN = dict(zip(paisesG, lN))"
   ]
  },
  {
   "cell_type": "markdown",
   "id": "308bbfd4",
   "metadata": {},
   "source": [
    "Tomo los 10 países que tienen mayor promedio de goles en contra y los grafico"
   ]
  },
  {
   "cell_type": "code",
   "execution_count": 665,
   "id": "8ab84888",
   "metadata": {},
   "outputs": [],
   "source": [
    "dic_ordN= sorted(dicN.items(), key=operator.itemgetter(1),reverse=True)\n",
    "dic_10N = dict(dic_ordN[0:10])"
   ]
  },
  {
   "cell_type": "code",
   "execution_count": 686,
   "id": "74a69815",
   "metadata": {
    "scrolled": true
   },
   "outputs": [
    {
     "data": {
      "image/png": "[encoded data removed]",
      "text/plain": [
       "<Figure size 720x360 with 1 Axes>"
      ]
     },
     "metadata": {
      "needs_background": "light"
     },
     "output_type": "display_data"
    }
   ],
   "source": [
    "fig, ax= plt.subplots(figsize=(10,5))\n",
    "xN = list(reversed(dic_10N.values()))\n",
    "yN = list(reversed(dic_10N.keys()))\n",
    "plt.barh(yN,xN, color=[\"r\",\"navy\",\"r\",\"gold\",\"navy\",\"gold\",\"limegreen\",\"r\",\"navy\",\"g\"])\n",
    "ax.set(xlabel=\"Promedio\", ylabel=\"País\", title=\"Promedio de goles en contra por partido en partidos oficiales\")\n",
    "plt.show()"
   ]
  },
  {
   "cell_type": "markdown",
   "id": "e6f4074a",
   "metadata": {},
   "source": [
    "Conclusiones"
   ]
  },
  {
   "cell_type": "code",
   "execution_count": 667,
   "id": "a7cd712b",
   "metadata": {},
   "outputs": [
    {
     "name": "stdout",
     "output_type": "stream",
     "text": [
      "En competencias oficiales, la selección mundialista con mayor promedio de goles en contra es Bolivia con 1.82 por partido. Le siguen Islandia y Perú con, respectivamente, 1.6 y 1.43.\n"
     ]
    }
   ],
   "source": [
    "print(f\"En competencias oficiales, la selección mundialista con mayor promedio de goles en contra es Bolivia con {xN[9]} por partido. Le siguen Islandia y Perú con, respectivamente, {xN[8]} y {xN[7]}.\")"
   ]
  },
  {
   "cell_type": "markdown",
   "id": "2cdf40c5",
   "metadata": {},
   "source": [
    "__3.2.2. Las 10 selecciones que más goles reciben en competencias oficiales.__ "
   ]
  },
  {
   "cell_type": "markdown",
   "id": "fa683843",
   "metadata": {},
   "source": [
    "Hago una lista con todos los países"
   ]
  },
  {
   "cell_type": "code",
   "execution_count": 668,
   "id": "053e066b",
   "metadata": {},
   "outputs": [],
   "source": [
    "paisesM = list(dict(df[\"away_team\"].value_counts()).keys())"
   ]
  },
  {
   "cell_type": "markdown",
   "id": "4293fe27",
   "metadata": {},
   "source": [
    "Hago un diccionario con cada país y su respectivo promedio de goles en contra"
   ]
  },
  {
   "cell_type": "code",
   "execution_count": 669,
   "id": "4de25ebe",
   "metadata": {},
   "outputs": [],
   "source": [
    "lM = []\n",
    "for p in paisesM:\n",
    "    golesRe = dfN.loc[(dfN[\"home_team\"]==p), \"away_team_score\"].sum() + dfN.loc[(dfN[\"away_team\"]==p), \"home_team_score\"].sum()\n",
    "    partidos = dfN.loc[(dfN[\"home_team\"]==p), \"home_team\"].count() + dfN.loc[(dfN[\"away_team\"]==p), \"away_team\"].count()\n",
    "    promedio_golRe= round(golesRe/partidos, 2)\n",
    "    lM.append(promedio_golRe)\n",
    "    \n",
    "dicM = dict(zip(paisesM, lM))"
   ]
  },
  {
   "cell_type": "markdown",
   "id": "d64589b6",
   "metadata": {},
   "source": [
    "Tomo los 10 con mayor promedio y grafico"
   ]
  },
  {
   "cell_type": "code",
   "execution_count": 670,
   "id": "7c94411d",
   "metadata": {},
   "outputs": [],
   "source": [
    "dic_ordM= sorted(dicM.items(), key=operator.itemgetter(1),reverse=True)\n",
    "dic_10M = dict(dic_ordM[0:10])"
   ]
  },
  {
   "cell_type": "code",
   "execution_count": 689,
   "id": "220bff6b",
   "metadata": {},
   "outputs": [
    {
     "data": {
      "image/png": "[encoded data removed]",
      "text/plain": [
       "<Figure size 648x360 with 1 Axes>"
      ]
     },
     "metadata": {
      "needs_background": "light"
     },
     "output_type": "display_data"
    }
   ],
   "source": [
    "fig, ax= plt.subplots(figsize=(9,5))\n",
    "xM = list(reversed(dic_10M.values()))\n",
    "yM = list(reversed(dic_10M.keys()))\n",
    "plt.barh(yM,xM, color=[\"orange\",\"limegreen\",\"skyblue\",\"red\",\"navy\",\"skyblue\",\"orange\",\"navy\",\"gold\",\"maroon\"])\n",
    "ax.set(xlabel=\"Promedio\", ylabel=\"País\", title=\"Promedio de goles recibidos por partido en partidos oficiales\")\n",
    "plt.show()"
   ]
  },
  {
   "cell_type": "markdown",
   "id": "81cb0abb",
   "metadata": {},
   "source": [
    "Conclusiones"
   ]
  },
  {
   "cell_type": "code",
   "execution_count": 690,
   "id": "666172c4",
   "metadata": {},
   "outputs": [
    {
     "name": "stdout",
     "output_type": "stream",
     "text": [
      "American Samoa es, por lejos, el país más goleado. Recibe 6.9 goles por partido. Lo siguen US Virgin Islands y Guam con 5.22 y 5.17 goles en contra, respectivamente.\n"
     ]
    }
   ],
   "source": [
    "print(f\"{yM[9]} es, por lejos, el país más goleado. Recibe {xM[9]} goles por partido. Lo siguen {yM[8]} y {yM[7]} con {xM[8]} y {xM[7]} goles en contra, respectivamente.\")"
   ]
  },
  {
   "cell_type": "markdown",
   "id": "8208260b",
   "metadata": {},
   "source": [
    "__3.2.3. El mundialista más perdedor.__ "
   ]
  },
  {
   "cell_type": "markdown",
   "id": "bf243ef2",
   "metadata": {},
   "source": [
    "Hago un diccionario con cada país y su respectivo porcentaje de derrotas"
   ]
  },
  {
   "cell_type": "code",
   "execution_count": 691,
   "id": "c8d41a6f",
   "metadata": {},
   "outputs": [],
   "source": [
    "lT = []\n",
    "for p in paisesG:\n",
    "    derrotas = dfN.loc[(dfN[\"home_team\"]==p) & (dfN[\"home_team_result\"]==\"Lose\"), \"country\"].count() + dfN.loc[(dfN[\"away_team\"]==p) & (dfN[\"away_team_result\"]==\"Lose\"), \"country\"].count()\n",
    "    partidos = dfN.loc[(dfN[\"home_team\"]==p), \"home_team\"].count() + dfN.loc[(dfN[\"away_team\"]==p), \"away_team\"].count()\n",
    "    promedioD= round((derrotas/partidos)*100, 2)\n",
    "    lT.append(promedioD)\n",
    "dicT = dict(zip(paisesG, lT))"
   ]
  },
  {
   "cell_type": "markdown",
   "id": "c718001c",
   "metadata": {},
   "source": [
    "Reduzco la lista y selecciono al que tiene mayor porcentaje"
   ]
  },
  {
   "cell_type": "code",
   "execution_count": 692,
   "id": "0f5b938d",
   "metadata": {},
   "outputs": [],
   "source": [
    "dic_ordT= sorted(dicT.items(), key=operator.itemgetter(1), reverse=True)\n",
    "dic_10T = dict(dic_ordT[0:10])\n",
    "xT = list(dic_10T.values())\n",
    "yT = list(dic_10T.keys())\n",
    "porc = xT[0]\n",
    "loser = yT[0]"
   ]
  },
  {
   "cell_type": "markdown",
   "id": "6c8186b5",
   "metadata": {},
   "source": [
    "Conclusiones"
   ]
  },
  {
   "cell_type": "code",
   "execution_count": 693,
   "id": "9ee97ee5",
   "metadata": {},
   "outputs": [
    {
     "name": "stdout",
     "output_type": "stream",
     "text": [
      "El más perdedor es Bolivia, con 56.45% de partidos perdidos en competencias oficiales. El 43.55% restante está distribuido en empates y victorias.\n"
     ]
    }
   ],
   "source": [
    "print(f\"El más perdedor es {loser}, con {porc}% de partidos perdidos en competencias oficiales. El {100-porc}% restante está distribuido en empates y victorias.\")"
   ]
  },
  {
   "cell_type": "markdown",
   "id": "7679c444",
   "metadata": {},
   "source": [
    "### 3.3 _Algunos datos del anfitrión_"
   ]
  },
  {
   "cell_type": "markdown",
   "id": "133ff639",
   "metadata": {},
   "source": [
    "Selecciono únicamente los partiods oficiales en los que participó Qatar"
   ]
  },
  {
   "cell_type": "code",
   "execution_count": 694,
   "id": "3fdba8ed",
   "metadata": {},
   "outputs": [],
   "source": [
    "dfQ = df.loc[(df[\"home_team\"]==\"Qatar\")|(df[\"away_team\"]==\"Qatar\")]\n",
    "dfQ = dfQ.loc[dfQ[\"tournament\"]!=\"Friendly\"]"
   ]
  },
  {
   "cell_type": "markdown",
   "id": "8b1de930",
   "metadata": {},
   "source": [
    "Calculo la cantidad de victorias, derrotas, empates y goles convertidos"
   ]
  },
  {
   "cell_type": "code",
   "execution_count": 695,
   "id": "fea3a815",
   "metadata": {},
   "outputs": [],
   "source": [
    "VQ = dfQ.loc[(dfQ[\"home_team\"]==\"Qatar\")&(dfQ[\"home_team_result\"]==\"Win\"), \"country\"].count() + dfQ.loc[((dfQ[\"away_team\"]==\"Qatar\")&(dfQ[\"home_team_result\"]==\"Lose\")), \"country\"].count()\n",
    "DQ = dfQ.loc[(dfQ[\"home_team\"]==\"Qatar\")&(dfQ[\"home_team_result\"]==\"Lose\"), \"country\"].count() + dfQ.loc[((dfQ[\"away_team\"]==\"Qatar\")&(dfQ[\"home_team_result\"]==\"Win\")), \"country\"].count()\n",
    "EQ = dfQ.loc[(dfQ[\"home_team\"]==\"Qatar\")&(dfQ[\"home_team_result\"]==\"Draw\"), \"country\"].count() + dfQ.loc[((dfQ[\"away_team\"]==\"Qatar\")&(dfQ[\"home_team_result\"]==\"Draw\")), \"country\"].count()\n",
    "PQ = VQ+DQ+EQ\n",
    "golQ= dfQ.loc[(dfQ[\"home_team\"]==\"Qatar\"), \"home_team_score\"].sum() + dfQ.loc[(dfQ[\"away_team\"]==\"Qatar\"), \"away_team_score\"].sum()"
   ]
  },
  {
   "cell_type": "markdown",
   "id": "5b54e8a8",
   "metadata": {},
   "source": [
    "¿Qatar jugó algún mundial?"
   ]
  },
  {
   "cell_type": "code",
   "execution_count": 696,
   "id": "dd266e15",
   "metadata": {
    "scrolled": true
   },
   "outputs": [
    {
     "data": {
      "text/plain": [
       "False"
      ]
     },
     "execution_count": 696,
     "metadata": {},
     "output_type": "execute_result"
    }
   ],
   "source": [
    "\"Qatar\" in paisesG"
   ]
  },
  {
   "cell_type": "markdown",
   "id": "1bd616e9",
   "metadata": {},
   "source": [
    "Conclusiones"
   ]
  },
  {
   "cell_type": "code",
   "execution_count": 697,
   "id": "4f4e7d23",
   "metadata": {},
   "outputs": [
    {
     "name": "stdout",
     "output_type": "stream",
     "text": [
      "En su historia, Qatar disputó 231 encuentros oficiales, de los cuales: ganó 108, perdió 72 y empató 51. En competencias, Qatar marca 1.61 goles por partido. La selección qatarí jamás participó de un mundial, 2022 será su debut.\n"
     ]
    }
   ],
   "source": [
    "print(f\"En su historia, Qatar disputó {PQ} encuentros oficiales, de los cuales: ganó {VQ}, perdió {DQ} y empató {EQ}. En competencias, Qatar marca {round(golQ/PQ,2)} goles por partido. La selección qatarí jamás participó de un mundial, 2022 será su debut.\")"
   ]
  },
  {
   "cell_type": "markdown",
   "id": "ecc8439e",
   "metadata": {},
   "source": [
    "### _Nicolás Beltrán - Palpitando Qatar 2022_"
   ]
  }
 ],
 "metadata": {
  "kernelspec": {
   "display_name": "Python 3 (ipykernel)",
   "language": "python",
   "name": "python3"
  },
  "language_info": {
   "codemirror_mode": {
    "name": "ipython",
    "version": 3
   },
   "file_extension": ".py",
   "mimetype": "text/x-python",
   "name": "python",
   "nbconvert_exporter": "python",
   "pygments_lexer": "ipython3",
   "version": "3.9.7"
  }
 },
 "nbformat": 4,
 "nbformat_minor": 5
}
