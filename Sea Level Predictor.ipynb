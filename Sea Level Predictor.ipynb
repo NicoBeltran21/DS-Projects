{
 "cells": [
  {
   "cell_type": "markdown",
   "id": "aef905bd",
   "metadata": {},
   "source": [
    "### Assignment:\n",
    "1. Use Pandas to import the data from epa-sea-level.csv.\n",
    "2. Use matplotlib to create a scatter plot using the Year column as the x-axis and the CSIRO Adjusted Sea Level column as the y-axix.\n",
    "3. Use the linregress function from scipy.stats to get the slope and y-intercept of the line of best fit. Plot the line of best fit over the top of the scatter plot. Make the line go through the year 2050 to predict the sea level rise in 2050.\n",
    "4. Plot a new line of best fit just using the data from year 2000 through the most recent year in the dataset. Make the line also go through the year 2050 to predict the sea level rise in 2050 if the rate of rise continues as it has since the year 2000.\n",
    "5. The x label should be Year, the y label should be Sea Level (inches), and the title should be Rise in Sea Level."
   ]
  },
  {
   "cell_type": "code",
   "execution_count": 90,
   "id": "a7925788",
   "metadata": {},
   "outputs": [],
   "source": [
    "import pandas as pd\n",
    "import seaborn as sns\n",
    "import matplotlib.pyplot as plt\n",
    "import numpy as np\n",
    "import scipy.stats as sp"
   ]
  },
  {
   "cell_type": "markdown",
   "id": "41121bc4",
   "metadata": {},
   "source": [
    "### ~ T1 ~ "
   ]
  },
  {
   "cell_type": "code",
   "execution_count": 103,
   "id": "22d7f13f",
   "metadata": {},
   "outputs": [],
   "source": [
    "df = pd.read_csv(\"epa-sea-level.csv\")"
   ]
  },
  {
   "cell_type": "code",
   "execution_count": 104,
   "id": "a9e8c36a",
   "metadata": {},
   "outputs": [
    {
     "data": {
      "text/html": [
       "<div>\n",
       "<style scoped>\n",
       "    .dataframe tbody tr th:only-of-type {\n",
       "        vertical-align: middle;\n",
       "    }\n",
       "\n",
       "    .dataframe tbody tr th {\n",
       "        vertical-align: top;\n",
       "    }\n",
       "\n",
       "    .dataframe thead th {\n",
       "        text-align: right;\n",
       "    }\n",
       "</style>\n",
       "<table border=\"1\" class=\"dataframe\">\n",
       "  <thead>\n",
       "    <tr style=\"text-align: right;\">\n",
       "      <th></th>\n",
       "      <th>Year</th>\n",
       "      <th>CSIRO Adjusted Sea Level</th>\n",
       "      <th>Lower Error Bound</th>\n",
       "      <th>Upper Error Bound</th>\n",
       "      <th>NOAA Adjusted Sea Level</th>\n",
       "    </tr>\n",
       "  </thead>\n",
       "  <tbody>\n",
       "    <tr>\n",
       "      <th>0</th>\n",
       "      <td>1880</td>\n",
       "      <td>0.000000</td>\n",
       "      <td>-0.952756</td>\n",
       "      <td>0.952756</td>\n",
       "      <td>NaN</td>\n",
       "    </tr>\n",
       "    <tr>\n",
       "      <th>1</th>\n",
       "      <td>1881</td>\n",
       "      <td>0.220472</td>\n",
       "      <td>-0.732283</td>\n",
       "      <td>1.173228</td>\n",
       "      <td>NaN</td>\n",
       "    </tr>\n",
       "    <tr>\n",
       "      <th>2</th>\n",
       "      <td>1882</td>\n",
       "      <td>-0.440945</td>\n",
       "      <td>-1.346457</td>\n",
       "      <td>0.464567</td>\n",
       "      <td>NaN</td>\n",
       "    </tr>\n",
       "    <tr>\n",
       "      <th>3</th>\n",
       "      <td>1883</td>\n",
       "      <td>-0.232283</td>\n",
       "      <td>-1.129921</td>\n",
       "      <td>0.665354</td>\n",
       "      <td>NaN</td>\n",
       "    </tr>\n",
       "    <tr>\n",
       "      <th>4</th>\n",
       "      <td>1884</td>\n",
       "      <td>0.590551</td>\n",
       "      <td>-0.283465</td>\n",
       "      <td>1.464567</td>\n",
       "      <td>NaN</td>\n",
       "    </tr>\n",
       "    <tr>\n",
       "      <th>5</th>\n",
       "      <td>1885</td>\n",
       "      <td>0.531496</td>\n",
       "      <td>-0.330709</td>\n",
       "      <td>1.393701</td>\n",
       "      <td>NaN</td>\n",
       "    </tr>\n",
       "    <tr>\n",
       "      <th>6</th>\n",
       "      <td>1886</td>\n",
       "      <td>0.437008</td>\n",
       "      <td>-0.381890</td>\n",
       "      <td>1.255906</td>\n",
       "      <td>NaN</td>\n",
       "    </tr>\n",
       "    <tr>\n",
       "      <th>7</th>\n",
       "      <td>1887</td>\n",
       "      <td>0.216535</td>\n",
       "      <td>-0.602362</td>\n",
       "      <td>1.035433</td>\n",
       "      <td>NaN</td>\n",
       "    </tr>\n",
       "    <tr>\n",
       "      <th>8</th>\n",
       "      <td>1888</td>\n",
       "      <td>0.299213</td>\n",
       "      <td>-0.519685</td>\n",
       "      <td>1.118110</td>\n",
       "      <td>NaN</td>\n",
       "    </tr>\n",
       "    <tr>\n",
       "      <th>9</th>\n",
       "      <td>1889</td>\n",
       "      <td>0.362205</td>\n",
       "      <td>-0.456693</td>\n",
       "      <td>1.181102</td>\n",
       "      <td>NaN</td>\n",
       "    </tr>\n",
       "  </tbody>\n",
       "</table>\n",
       "</div>"
      ],
      "text/plain": [
       "   Year  CSIRO Adjusted Sea Level  Lower Error Bound  Upper Error Bound  \\\n",
       "0  1880                  0.000000          -0.952756           0.952756   \n",
       "1  1881                  0.220472          -0.732283           1.173228   \n",
       "2  1882                 -0.440945          -1.346457           0.464567   \n",
       "3  1883                 -0.232283          -1.129921           0.665354   \n",
       "4  1884                  0.590551          -0.283465           1.464567   \n",
       "5  1885                  0.531496          -0.330709           1.393701   \n",
       "6  1886                  0.437008          -0.381890           1.255906   \n",
       "7  1887                  0.216535          -0.602362           1.035433   \n",
       "8  1888                  0.299213          -0.519685           1.118110   \n",
       "9  1889                  0.362205          -0.456693           1.181102   \n",
       "\n",
       "   NOAA Adjusted Sea Level  \n",
       "0                      NaN  \n",
       "1                      NaN  \n",
       "2                      NaN  \n",
       "3                      NaN  \n",
       "4                      NaN  \n",
       "5                      NaN  \n",
       "6                      NaN  \n",
       "7                      NaN  \n",
       "8                      NaN  \n",
       "9                      NaN  "
      ]
     },
     "execution_count": 104,
     "metadata": {},
     "output_type": "execute_result"
    }
   ],
   "source": [
    "df.head(10)"
   ]
  },
  {
   "cell_type": "markdown",
   "id": "1cb3ce8c",
   "metadata": {},
   "source": [
    "### ~ T2, T3, T4, T5 ~ "
   ]
  },
  {
   "cell_type": "code",
   "execution_count": 106,
   "id": "0421cd4d",
   "metadata": {},
   "outputs": [
    {
     "data": {
      "text/plain": [
       "[<matplotlib.lines.Line2D at 0x251ec1015e0>]"
      ]
     },
     "execution_count": 106,
     "metadata": {},
     "output_type": "execute_result"
    },
    {
     "data": {
      "image/png": "[encoded data removed]",
      "text/plain": [
       "<Figure size 432x288 with 1 Axes>"
      ]
     },
     "metadata": {
      "needs_background": "light"
     },
     "output_type": "display_data"
    }
   ],
   "source": [
    "fig, ax = plt.subplots()\n",
    "plt.scatter(df[\"Year\"],df[\"CSIRO Adjusted Sea Level\"])\n",
    "ax.set_xlabel(\"Year\")\n",
    "ax.set_ylabel(\"Sea level (inches)\")\n",
    "ax.set_title(\"Rise in Sea Level\")\n",
    "x = df[\"Year\"]\n",
    "y = df[\"CSIRO Adjusted Sea Level\"]\n",
    "res = sp.linregress(x,y)\n",
    "x1= pd.Series([i for i in range (1880,2051)])\n",
    "y1= res.slope*(x1)+res.intercept\n",
    "plt.plot(x1, y1, \"orange\")\n",
    "ndf=df.loc[(df[\"Year\"]>=2000)]\n",
    "nx = ndf[\"Year\"]\n",
    "ny = ndf[\"CSIRO Adjusted Sea Level\"]\n",
    "res2 = sp.linregress(nx,ny)\n",
    "x2 = pd.Series([i for i in range (2000,2051)])\n",
    "y2 = res2.slope*(x2)+res2.intercept\n",
    "plt.plot(x2,y2, \"red\")\n"
   ]
  },
  {
   "cell_type": "markdown",
   "id": "1ded0112",
   "metadata": {},
   "source": [
    "### _Nicolás Beltrán_"
   ]
  }
 ],
 "metadata": {
  "kernelspec": {
   "display_name": "Python 3 (ipykernel)",
   "language": "python",
   "name": "python3"
  },
  "language_info": {
   "codemirror_mode": {
    "name": "ipython",
    "version": 3
   },
   "file_extension": ".py",
   "mimetype": "text/x-python",
   "name": "python",
   "nbconvert_exporter": "python",
   "pygments_lexer": "ipython3",
   "version": "3.9.7"
  }
 },
 "nbformat": 4,
 "nbformat_minor": 5
}
